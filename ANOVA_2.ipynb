{
 "cells": [
  {
   "cell_type": "markdown",
   "id": "61f055a1",
   "metadata": {},
   "source": [
    "# NEHA RAGESH NAMBIAR\n",
    "20BRS1110"
   ]
  },
  {
   "cell_type": "code",
   "execution_count": 1,
   "id": "1002b994",
   "metadata": {},
   "outputs": [],
   "source": [
    "import pandas as pd\n",
    "import statsmodels.api as sm\n",
    "from statsmodels.formula.api import ols"
   ]
  },
  {
   "cell_type": "markdown",
   "id": "e1fa8fe5",
   "metadata": {},
   "source": [
    "An MBA aspirant was interested in knowing the impact of educational back ground (arts/commerce and Science/Engineering) on the final placement salaries. He is also aware that previous work experience has an impact on the salaries. Therefore, he choses educational background and work experience as 2 independent variables. Based on educational background, respondendts are categorised into 2 groups - one belongs to the arts and commerce stream and the other belongs to the science and engineering stream. Based on the previous work experience, respondents are again categorised into 2 groups- one with experience and the other without experience. Since we have 2 levels of each of the factors, this is called a 2*2 design. A sample of 30 students is randomly chosen and their salaries from campus recruitment as well as information on educational background and work experince. for educational background 1 represents arts and commerce and 2 represents science and engineering stream.For work experience1 represents students with experience and 2 represents students with no experience. Salary is given in the multiple of 100,000 INR"
   ]
  },
  {
   "cell_type": "raw",
   "id": "a1af26f8",
   "metadata": {},
   "source": [
    "H01: The educational background and previous work experience have no bearing on the placement salaries of MBA students.\n",
    "\n",
    "Ha1: MBA students from science stream and/or with previous work experience will get more salaries during final placements"
   ]
  },
  {
   "cell_type": "code",
   "execution_count": 4,
   "id": "02cecbf7",
   "metadata": {},
   "outputs": [
    {
     "data": {
      "text/html": [
       "<div>\n",
       "<style scoped>\n",
       "    .dataframe tbody tr th:only-of-type {\n",
       "        vertical-align: middle;\n",
       "    }\n",
       "\n",
       "    .dataframe tbody tr th {\n",
       "        vertical-align: top;\n",
       "    }\n",
       "\n",
       "    .dataframe thead th {\n",
       "        text-align: right;\n",
       "    }\n",
       "</style>\n",
       "<table border=\"1\" class=\"dataframe\">\n",
       "  <thead>\n",
       "    <tr style=\"text-align: right;\">\n",
       "      <th></th>\n",
       "      <th>Stu</th>\n",
       "      <th>Salary</th>\n",
       "      <th>Edu_back</th>\n",
       "      <th>Work_exp</th>\n",
       "    </tr>\n",
       "  </thead>\n",
       "  <tbody>\n",
       "    <tr>\n",
       "      <th>0</th>\n",
       "      <td>1</td>\n",
       "      <td>8.5</td>\n",
       "      <td>1</td>\n",
       "      <td>1</td>\n",
       "    </tr>\n",
       "    <tr>\n",
       "      <th>1</th>\n",
       "      <td>2</td>\n",
       "      <td>10.8</td>\n",
       "      <td>1</td>\n",
       "      <td>1</td>\n",
       "    </tr>\n",
       "    <tr>\n",
       "      <th>2</th>\n",
       "      <td>3</td>\n",
       "      <td>9.7</td>\n",
       "      <td>1</td>\n",
       "      <td>1</td>\n",
       "    </tr>\n",
       "    <tr>\n",
       "      <th>3</th>\n",
       "      <td>4</td>\n",
       "      <td>8.8</td>\n",
       "      <td>1</td>\n",
       "      <td>1</td>\n",
       "    </tr>\n",
       "    <tr>\n",
       "      <th>4</th>\n",
       "      <td>5</td>\n",
       "      <td>7.8</td>\n",
       "      <td>1</td>\n",
       "      <td>2</td>\n",
       "    </tr>\n",
       "  </tbody>\n",
       "</table>\n",
       "</div>"
      ],
      "text/plain": [
       "   Stu  Salary  Edu_back  Work_exp\n",
       "0    1     8.5         1         1\n",
       "1    2    10.8         1         1\n",
       "2    3     9.7         1         1\n",
       "3    4     8.8         1         1\n",
       "4    5     7.8         1         2"
      ]
     },
     "execution_count": 4,
     "metadata": {},
     "output_type": "execute_result"
    }
   ],
   "source": [
    "df = pd.read_csv('anova2.csv')\n",
    "df.head()"
   ]
  },
  {
   "cell_type": "code",
   "execution_count": 5,
   "id": "a52feaac",
   "metadata": {},
   "outputs": [],
   "source": [
    "# ONE_WAY ANOVA\n",
    "ano = ols('Salary ~ Edu_back',data = df).fit()"
   ]
  },
  {
   "cell_type": "code",
   "execution_count": 8,
   "id": "5abf43c3",
   "metadata": {},
   "outputs": [],
   "source": [
    "one = sm.stats.anova_lm(ano,type = 2)"
   ]
  },
  {
   "cell_type": "code",
   "execution_count": 9,
   "id": "a7cd4e10",
   "metadata": {},
   "outputs": [
    {
     "data": {
      "text/html": [
       "<div>\n",
       "<style scoped>\n",
       "    .dataframe tbody tr th:only-of-type {\n",
       "        vertical-align: middle;\n",
       "    }\n",
       "\n",
       "    .dataframe tbody tr th {\n",
       "        vertical-align: top;\n",
       "    }\n",
       "\n",
       "    .dataframe thead th {\n",
       "        text-align: right;\n",
       "    }\n",
       "</style>\n",
       "<table border=\"1\" class=\"dataframe\">\n",
       "  <thead>\n",
       "    <tr style=\"text-align: right;\">\n",
       "      <th></th>\n",
       "      <th>df</th>\n",
       "      <th>sum_sq</th>\n",
       "      <th>mean_sq</th>\n",
       "      <th>F</th>\n",
       "      <th>PR(&gt;F)</th>\n",
       "    </tr>\n",
       "  </thead>\n",
       "  <tbody>\n",
       "    <tr>\n",
       "      <th>Edu_back</th>\n",
       "      <td>1.0</td>\n",
       "      <td>1.855053</td>\n",
       "      <td>1.855053</td>\n",
       "      <td>0.37671</td>\n",
       "      <td>0.544324</td>\n",
       "    </tr>\n",
       "    <tr>\n",
       "      <th>Residual</th>\n",
       "      <td>28.0</td>\n",
       "      <td>137.881827</td>\n",
       "      <td>4.924351</td>\n",
       "      <td>NaN</td>\n",
       "      <td>NaN</td>\n",
       "    </tr>\n",
       "  </tbody>\n",
       "</table>\n",
       "</div>"
      ],
      "text/plain": [
       "            df      sum_sq   mean_sq        F    PR(>F)\n",
       "Edu_back   1.0    1.855053  1.855053  0.37671  0.544324\n",
       "Residual  28.0  137.881827  4.924351      NaN       NaN"
      ]
     },
     "execution_count": 9,
     "metadata": {},
     "output_type": "execute_result"
    }
   ],
   "source": [
    "one"
   ]
  },
  {
   "cell_type": "markdown",
   "id": "f16984b9",
   "metadata": {},
   "source": [
    "![title](anova21.png)"
   ]
  },
  {
   "cell_type": "code",
   "execution_count": 10,
   "id": "3567bec4",
   "metadata": {},
   "outputs": [
    {
     "data": {
      "text/html": [
       "<div>\n",
       "<style scoped>\n",
       "    .dataframe tbody tr th:only-of-type {\n",
       "        vertical-align: middle;\n",
       "    }\n",
       "\n",
       "    .dataframe tbody tr th {\n",
       "        vertical-align: top;\n",
       "    }\n",
       "\n",
       "    .dataframe thead th {\n",
       "        text-align: right;\n",
       "    }\n",
       "</style>\n",
       "<table border=\"1\" class=\"dataframe\">\n",
       "  <thead>\n",
       "    <tr style=\"text-align: right;\">\n",
       "      <th></th>\n",
       "      <th>df</th>\n",
       "      <th>sum_sq</th>\n",
       "      <th>mean_sq</th>\n",
       "      <th>F</th>\n",
       "      <th>PR(&gt;F)</th>\n",
       "    </tr>\n",
       "  </thead>\n",
       "  <tbody>\n",
       "    <tr>\n",
       "      <th>Edu_back</th>\n",
       "      <td>1.0</td>\n",
       "      <td>1.855053</td>\n",
       "      <td>1.855053</td>\n",
       "      <td>0.695193</td>\n",
       "      <td>0.411720</td>\n",
       "    </tr>\n",
       "    <tr>\n",
       "      <th>Work_exp</th>\n",
       "      <td>1.0</td>\n",
       "      <td>65.835003</td>\n",
       "      <td>65.835003</td>\n",
       "      <td>24.672081</td>\n",
       "      <td>0.000033</td>\n",
       "    </tr>\n",
       "    <tr>\n",
       "      <th>Residual</th>\n",
       "      <td>27.0</td>\n",
       "      <td>72.046824</td>\n",
       "      <td>2.668401</td>\n",
       "      <td>NaN</td>\n",
       "      <td>NaN</td>\n",
       "    </tr>\n",
       "  </tbody>\n",
       "</table>\n",
       "</div>"
      ],
      "text/plain": [
       "            df     sum_sq    mean_sq          F    PR(>F)\n",
       "Edu_back   1.0   1.855053   1.855053   0.695193  0.411720\n",
       "Work_exp   1.0  65.835003  65.835003  24.672081  0.000033\n",
       "Residual  27.0  72.046824   2.668401        NaN       NaN"
      ]
     },
     "execution_count": 10,
     "metadata": {},
     "output_type": "execute_result"
    }
   ],
   "source": [
    "# TWO_WAY ANOVA\n",
    "\n",
    "ano2 = ols('Salary ~ Edu_back + Work_exp',data = df).fit()\n",
    "two = sm.stats.anova_lm(ano2,type = 2)\n",
    "two"
   ]
  },
  {
   "cell_type": "raw",
   "id": "3c38c68f",
   "metadata": {},
   "source": [
    "educational background has no significance on salary but work experience has"
   ]
  },
  {
   "cell_type": "code",
   "execution_count": 11,
   "id": "9bea0429",
   "metadata": {},
   "outputs": [
    {
     "data": {
      "text/html": [
       "<div>\n",
       "<style scoped>\n",
       "    .dataframe tbody tr th:only-of-type {\n",
       "        vertical-align: middle;\n",
       "    }\n",
       "\n",
       "    .dataframe tbody tr th {\n",
       "        vertical-align: top;\n",
       "    }\n",
       "\n",
       "    .dataframe thead th {\n",
       "        text-align: right;\n",
       "    }\n",
       "</style>\n",
       "<table border=\"1\" class=\"dataframe\">\n",
       "  <thead>\n",
       "    <tr style=\"text-align: right;\">\n",
       "      <th></th>\n",
       "      <th>df</th>\n",
       "      <th>sum_sq</th>\n",
       "      <th>mean_sq</th>\n",
       "      <th>F</th>\n",
       "      <th>PR(&gt;F)</th>\n",
       "    </tr>\n",
       "  </thead>\n",
       "  <tbody>\n",
       "    <tr>\n",
       "      <th>Edu_back</th>\n",
       "      <td>1.0</td>\n",
       "      <td>1.855053</td>\n",
       "      <td>1.855053</td>\n",
       "      <td>0.673331</td>\n",
       "      <td>0.419353</td>\n",
       "    </tr>\n",
       "    <tr>\n",
       "      <th>Work_exp</th>\n",
       "      <td>1.0</td>\n",
       "      <td>65.835003</td>\n",
       "      <td>65.835003</td>\n",
       "      <td>23.896211</td>\n",
       "      <td>0.000045</td>\n",
       "    </tr>\n",
       "    <tr>\n",
       "      <th>Edu_back:Work_exp</th>\n",
       "      <td>1.0</td>\n",
       "      <td>0.415801</td>\n",
       "      <td>0.415801</td>\n",
       "      <td>0.150924</td>\n",
       "      <td>0.700817</td>\n",
       "    </tr>\n",
       "    <tr>\n",
       "      <th>Residual</th>\n",
       "      <td>26.0</td>\n",
       "      <td>71.631023</td>\n",
       "      <td>2.755039</td>\n",
       "      <td>NaN</td>\n",
       "      <td>NaN</td>\n",
       "    </tr>\n",
       "  </tbody>\n",
       "</table>\n",
       "</div>"
      ],
      "text/plain": [
       "                     df     sum_sq    mean_sq          F    PR(>F)\n",
       "Edu_back            1.0   1.855053   1.855053   0.673331  0.419353\n",
       "Work_exp            1.0  65.835003  65.835003  23.896211  0.000045\n",
       "Edu_back:Work_exp   1.0   0.415801   0.415801   0.150924  0.700817\n",
       "Residual           26.0  71.631023   2.755039        NaN       NaN"
      ]
     },
     "execution_count": 11,
     "metadata": {},
     "output_type": "execute_result"
    }
   ],
   "source": [
    "# INTERACTION EFFECT\n",
    "\n",
    "ano3 = ols('Salary ~ Edu_back + Work_exp + Edu_back*Work_exp',data = df).fit()\n",
    "Int = sm.stats.anova_lm(ano3,type = 2)\n",
    "Int"
   ]
  },
  {
   "cell_type": "raw",
   "id": "ab9a32c7",
   "metadata": {},
   "source": [
    "F-statistic corresponding to work experience is 23.896, which is significant at p < 0.001. F-statistics for educational background is 0.243 which is insignificant as p = 0.626. The interaction between work experience and educational Background is also insignificant"
   ]
  },
  {
   "cell_type": "raw",
   "id": "cbec6fc3",
   "metadata": {},
   "source": [
    "Therefore, null hypothesis is only partially supported. While the previous work experience has a significant impact on the placement salaries of MBA students, their previous educational background does not. "
   ]
  },
  {
   "cell_type": "markdown",
   "id": "bc7023ec",
   "metadata": {},
   "source": [
    "![title](anova22.png)\n",
    "![title](anova23.png)\n",
    "![title](anova24.png)"
   ]
  },
  {
   "cell_type": "code",
   "execution_count": null,
   "id": "b7ea27c5",
   "metadata": {},
   "outputs": [],
   "source": []
  }
 ],
 "metadata": {
  "kernelspec": {
   "display_name": "Python 3 (ipykernel)",
   "language": "python",
   "name": "python3"
  },
  "language_info": {
   "codemirror_mode": {
    "name": "ipython",
    "version": 3
   },
   "file_extension": ".py",
   "mimetype": "text/x-python",
   "name": "python",
   "nbconvert_exporter": "python",
   "pygments_lexer": "ipython3",
   "version": "3.9.12"
  }
 },
 "nbformat": 4,
 "nbformat_minor": 5
}
