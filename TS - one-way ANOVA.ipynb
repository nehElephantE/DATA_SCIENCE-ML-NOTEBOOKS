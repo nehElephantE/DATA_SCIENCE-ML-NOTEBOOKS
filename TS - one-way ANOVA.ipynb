{
 "cells": [
  {
   "cell_type": "markdown",
   "metadata": {},
   "source": [
    "# One-way ANOVA\n",
    "*By P. Stikker*<br>\n",
    "https://PeterStatistics.com<br>\n",
    "https://www.youtube.com/stikpet<br>"
   ]
  },
  {
   "cell_type": "markdown",
   "metadata": {},
   "source": [
    "## Introduction"
   ]
  },
  {
   "cell_type": "markdown",
   "metadata": {},
   "source": [
    "The one-way ANOVA is a test that is often used to determine if there are differences in means between different categories. ANOVA is short for ANalysis Of VAriances, since to determine if the means are different an investigation in different variances is used.\n",
    "\n",
    "This is the test I'd use if I have a nominal and a scale (interval/ratio) variable. \n",
    "\n",
    "There a few different ways you can do this test with Python. If you have a pandas dataframe, the easiest method (in my opinion) is by using the Pingouin package or the statsmodels.api. You can simply let it know which fields are involved and basically you're done.\n",
    "\n",
    "If you have separate lists of scores then the scipy package could be used. \n",
    "\n",
    "I'll show an example for all three, and in the appendix how you can even avoid almost entirely packages by going over the formulas involved (it still needs a package for the F-distribution, which would go too far to also do without a package).\n",
    "\n",
    "Lets get started."
   ]
  },
  {
   "cell_type": "markdown",
   "metadata": {},
   "source": [
    "## Example"
   ]
  },
  {
   "cell_type": "markdown",
   "metadata": {},
   "source": [
    "To show an example, I'll load some data as a pandas dataframe. So I'll need the '<a href=\"https://pandas.pydata.org\">pandas</a>' library:"
   ]
  },
  {
   "cell_type": "code",
   "execution_count": 1,
   "metadata": {},
   "outputs": [],
   "source": [
    "#!pip install pandas\n",
    "import pandas as pd"
   ]
  },
  {
   "cell_type": "markdown",
   "metadata": {},
   "source": [
    "And then load the example data using the <a href=\"https://pandas.pydata.org/pandas-docs/stable/reference/api/pandas.read_csv.html\">'read_csv'</a>. "
   ]
  },
  {
   "cell_type": "code",
   "execution_count": 2,
   "metadata": {},
   "outputs": [
    {
     "data": {
      "text/html": [
       "<div>\n",
       "<style scoped>\n",
       "    .dataframe tbody tr th:only-of-type {\n",
       "        vertical-align: middle;\n",
       "    }\n",
       "\n",
       "    .dataframe tbody tr th {\n",
       "        vertical-align: top;\n",
       "    }\n",
       "\n",
       "    .dataframe thead th {\n",
       "        text-align: right;\n",
       "    }\n",
       "</style>\n",
       "<table border=\"1\" class=\"dataframe\">\n",
       "  <thead>\n",
       "    <tr style=\"text-align: right;\">\n",
       "      <th></th>\n",
       "      <th>RespNr</th>\n",
       "      <th>Location</th>\n",
       "      <th>OAA_ObjCourse</th>\n",
       "      <th>OAA_ObjClass</th>\n",
       "      <th>OAA_CourseExec</th>\n",
       "      <th>OAA_RelActObj</th>\n",
       "      <th>OAA_RelActExa</th>\n",
       "      <th>OAA_RelObjExa</th>\n",
       "      <th>OAA_LearProcAct</th>\n",
       "      <th>OAA_LearProcPrep</th>\n",
       "      <th>...</th>\n",
       "      <th>Over_Grade</th>\n",
       "      <th>Over_Strong</th>\n",
       "      <th>Over_Impr</th>\n",
       "      <th>Gen_Gender</th>\n",
       "      <th>Gen_Age</th>\n",
       "      <th>Gen_SecSchool</th>\n",
       "      <th>Gen_Classes</th>\n",
       "      <th>Gen_NumberSubj</th>\n",
       "      <th>Gen_Time</th>\n",
       "      <th>Comments</th>\n",
       "    </tr>\n",
       "  </thead>\n",
       "  <tbody>\n",
       "    <tr>\n",
       "      <th>0</th>\n",
       "      <td>1.0</td>\n",
       "      <td>Rotterdam</td>\n",
       "      <td>Fully Disagree</td>\n",
       "      <td>Fully Disagree</td>\n",
       "      <td>Fully Disagree</td>\n",
       "      <td>Disagree</td>\n",
       "      <td>Fully Disagree</td>\n",
       "      <td>Fully Disagree</td>\n",
       "      <td>Fully Disagree</td>\n",
       "      <td>Fully Disagree</td>\n",
       "      <td>...</td>\n",
       "      <td>20.0</td>\n",
       "      <td>None, if there was a teacher that teaches how ...</td>\n",
       "      <td>A better teacher/teaching method</td>\n",
       "      <td>Female</td>\n",
       "      <td>22.0</td>\n",
       "      <td>NaN</td>\n",
       "      <td>NaN</td>\n",
       "      <td>Fully agree</td>\n",
       "      <td>20 &lt; 30</td>\n",
       "      <td>Even when I revise my work I still cannot unde...</td>\n",
       "    </tr>\n",
       "    <tr>\n",
       "      <th>1</th>\n",
       "      <td>2.0</td>\n",
       "      <td>Haarlem</td>\n",
       "      <td>Disagree</td>\n",
       "      <td>Disagree</td>\n",
       "      <td>NaN</td>\n",
       "      <td>Fully Disagree</td>\n",
       "      <td>Neither disagree nor agree</td>\n",
       "      <td>Agree</td>\n",
       "      <td>Disagree</td>\n",
       "      <td>Neither disagree nor agree</td>\n",
       "      <td>...</td>\n",
       "      <td>50.0</td>\n",
       "      <td>Blackboard</td>\n",
       "      <td>More motivation! Clearer explanation in class</td>\n",
       "      <td>Male</td>\n",
       "      <td>NaN</td>\n",
       "      <td>The Netherlands</td>\n",
       "      <td>6.0</td>\n",
       "      <td>Disagree</td>\n",
       "      <td>10 &lt; 20</td>\n",
       "      <td>If the survey is anonymous, there shouldn't be...</td>\n",
       "    </tr>\n",
       "    <tr>\n",
       "      <th>2</th>\n",
       "      <td>3.0</td>\n",
       "      <td>Diemen</td>\n",
       "      <td>Fully agree</td>\n",
       "      <td>Fully agree</td>\n",
       "      <td>Agree</td>\n",
       "      <td>Fully agree</td>\n",
       "      <td>Fully agree</td>\n",
       "      <td>Fully agree</td>\n",
       "      <td>Fully agree</td>\n",
       "      <td>Agree</td>\n",
       "      <td>...</td>\n",
       "      <td>80.0</td>\n",
       "      <td>Notably it has motivated alot about my study c...</td>\n",
       "      <td>NaN</td>\n",
       "      <td>Male</td>\n",
       "      <td>37.0</td>\n",
       "      <td>Africa</td>\n",
       "      <td>7.0</td>\n",
       "      <td>Agree</td>\n",
       "      <td>10 &lt; 20</td>\n",
       "      <td>NaN</td>\n",
       "    </tr>\n",
       "    <tr>\n",
       "      <th>3</th>\n",
       "      <td>4.0</td>\n",
       "      <td>Rotterdam</td>\n",
       "      <td>Fully Disagree</td>\n",
       "      <td>Neither disagree nor agree</td>\n",
       "      <td>Disagree</td>\n",
       "      <td>Neither disagree nor agree</td>\n",
       "      <td>Neither disagree nor agree</td>\n",
       "      <td>Fully Disagree</td>\n",
       "      <td>Fully Disagree</td>\n",
       "      <td>Neither disagree nor agree</td>\n",
       "      <td>...</td>\n",
       "      <td>15.0</td>\n",
       "      <td>The clearly layout of every subject eacht week</td>\n",
       "      <td>The explanation of the teacher and motivation</td>\n",
       "      <td>Female</td>\n",
       "      <td>24.0</td>\n",
       "      <td>The Netherlands</td>\n",
       "      <td>6.0</td>\n",
       "      <td>Agree</td>\n",
       "      <td>10 &lt; 20</td>\n",
       "      <td>Practice exams</td>\n",
       "    </tr>\n",
       "    <tr>\n",
       "      <th>4</th>\n",
       "      <td>5.0</td>\n",
       "      <td>Haarlem</td>\n",
       "      <td>Disagree</td>\n",
       "      <td>Agree</td>\n",
       "      <td>Fully Disagree</td>\n",
       "      <td>Neither disagree nor agree</td>\n",
       "      <td>Fully agree</td>\n",
       "      <td>Fully agree</td>\n",
       "      <td>Neither disagree nor agree</td>\n",
       "      <td>Fully agree</td>\n",
       "      <td>...</td>\n",
       "      <td>40.0</td>\n",
       "      <td>The online learning material</td>\n",
       "      <td>Classes were just really bad and were very con...</td>\n",
       "      <td>Male</td>\n",
       "      <td>19.0</td>\n",
       "      <td>The Netherlands</td>\n",
       "      <td>7.0</td>\n",
       "      <td>Fully agree</td>\n",
       "      <td>10 &lt; 20</td>\n",
       "      <td>NaN</td>\n",
       "    </tr>\n",
       "  </tbody>\n",
       "</table>\n",
       "<p>5 rows × 53 columns</p>\n",
       "</div>"
      ],
      "text/plain": [
       "   RespNr   Location   OAA_ObjCourse                OAA_ObjClass  \\\n",
       "0     1.0  Rotterdam  Fully Disagree              Fully Disagree   \n",
       "1     2.0    Haarlem        Disagree                    Disagree   \n",
       "2     3.0     Diemen     Fully agree                 Fully agree   \n",
       "3     4.0  Rotterdam  Fully Disagree  Neither disagree nor agree   \n",
       "4     5.0    Haarlem        Disagree                       Agree   \n",
       "\n",
       "   OAA_CourseExec               OAA_RelActObj               OAA_RelActExa  \\\n",
       "0  Fully Disagree                    Disagree              Fully Disagree   \n",
       "1             NaN              Fully Disagree  Neither disagree nor agree   \n",
       "2           Agree                 Fully agree                 Fully agree   \n",
       "3        Disagree  Neither disagree nor agree  Neither disagree nor agree   \n",
       "4  Fully Disagree  Neither disagree nor agree                 Fully agree   \n",
       "\n",
       "    OAA_RelObjExa             OAA_LearProcAct            OAA_LearProcPrep  \\\n",
       "0  Fully Disagree              Fully Disagree              Fully Disagree   \n",
       "1           Agree                    Disagree  Neither disagree nor agree   \n",
       "2     Fully agree                 Fully agree                       Agree   \n",
       "3  Fully Disagree              Fully Disagree  Neither disagree nor agree   \n",
       "4     Fully agree  Neither disagree nor agree                 Fully agree   \n",
       "\n",
       "   ... Over_Grade                                        Over_Strong  \\\n",
       "0  ...       20.0  None, if there was a teacher that teaches how ...   \n",
       "1  ...       50.0                                         Blackboard   \n",
       "2  ...       80.0  Notably it has motivated alot about my study c...   \n",
       "3  ...       15.0     The clearly layout of every subject eacht week   \n",
       "4  ...       40.0                       The online learning material   \n",
       "\n",
       "                                           Over_Impr Gen_Gender Gen_Age  \\\n",
       "0                   A better teacher/teaching method     Female    22.0   \n",
       "1      More motivation! Clearer explanation in class       Male     NaN   \n",
       "2                                                NaN       Male    37.0   \n",
       "3      The explanation of the teacher and motivation     Female    24.0   \n",
       "4  Classes were just really bad and were very con...       Male    19.0   \n",
       "\n",
       "     Gen_SecSchool Gen_Classes Gen_NumberSubj Gen_Time  \\\n",
       "0              NaN         NaN    Fully agree  20 < 30   \n",
       "1  The Netherlands         6.0       Disagree  10 < 20   \n",
       "2           Africa         7.0          Agree  10 < 20   \n",
       "3  The Netherlands         6.0          Agree  10 < 20   \n",
       "4  The Netherlands         7.0    Fully agree  10 < 20   \n",
       "\n",
       "                                            Comments  \n",
       "0  Even when I revise my work I still cannot unde...  \n",
       "1  If the survey is anonymous, there shouldn't be...  \n",
       "2                                                NaN  \n",
       "3                                     Practice exams  \n",
       "4                                                NaN  \n",
       "\n",
       "[5 rows x 53 columns]"
      ]
     },
     "execution_count": 2,
     "metadata": {},
     "output_type": "execute_result"
    }
   ],
   "source": [
    "myDf = pd.read_csv('../../Data/csv/StudentStatistics.csv')\n",
    "myDf.head()"
   ]
  },
  {
   "cell_type": "markdown",
   "metadata": {},
   "source": [
    "The example will use as a nominal field the 'Location', and as scale field the 'Over_Grade' (the overall grade the student gave for the course)."
   ]
  },
  {
   "cell_type": "markdown",
   "metadata": {},
   "source": [
    "## Using Pingouin"
   ]
  },
  {
   "cell_type": "markdown",
   "metadata": {},
   "source": [
    "The first method to perform the one-way ANOVA discussed is using the '<a href=\"https://pingouin-stats.org\">pingouin</a>' package. We need to import that:"
   ]
  },
  {
   "cell_type": "code",
   "execution_count": 3,
   "metadata": {},
   "outputs": [],
   "source": [
    "# !pip install pingouin\n",
    "import pingouin as pg"
   ]
  },
  {
   "cell_type": "markdown",
   "metadata": {},
   "source": [
    "Now we can use pingouin's '<a href=\"https://pingouin-stats.org/generated/pingouin.anova.html#pingouin.anova\">anova</a>' function. This askes for the *dv* (depending variable) which is our scale variable, the *between* which is the variable with the categories (our nominal variable), and if we want to see the results in a nice dataframe with *detailed* set to True."
   ]
  },
  {
   "cell_type": "code",
   "execution_count": 4,
   "metadata": {},
   "outputs": [
    {
     "data": {
      "text/html": [
       "<div>\n",
       "<style scoped>\n",
       "    .dataframe tbody tr th:only-of-type {\n",
       "        vertical-align: middle;\n",
       "    }\n",
       "\n",
       "    .dataframe tbody tr th {\n",
       "        vertical-align: top;\n",
       "    }\n",
       "\n",
       "    .dataframe thead th {\n",
       "        text-align: right;\n",
       "    }\n",
       "</style>\n",
       "<table border=\"1\" class=\"dataframe\">\n",
       "  <thead>\n",
       "    <tr style=\"text-align: right;\">\n",
       "      <th></th>\n",
       "      <th>Source</th>\n",
       "      <th>SS</th>\n",
       "      <th>DF</th>\n",
       "      <th>MS</th>\n",
       "      <th>F</th>\n",
       "      <th>p-unc</th>\n",
       "      <th>np2</th>\n",
       "    </tr>\n",
       "  </thead>\n",
       "  <tbody>\n",
       "    <tr>\n",
       "      <th>0</th>\n",
       "      <td>Location</td>\n",
       "      <td>6645.526991</td>\n",
       "      <td>2</td>\n",
       "      <td>3322.763495</td>\n",
       "      <td>8.0431</td>\n",
       "      <td>0.001032</td>\n",
       "      <td>0.263336</td>\n",
       "    </tr>\n",
       "    <tr>\n",
       "      <th>1</th>\n",
       "      <td>Within</td>\n",
       "      <td>18590.389676</td>\n",
       "      <td>45</td>\n",
       "      <td>413.119771</td>\n",
       "      <td>NaN</td>\n",
       "      <td>NaN</td>\n",
       "      <td>NaN</td>\n",
       "    </tr>\n",
       "  </tbody>\n",
       "</table>\n",
       "</div>"
      ],
      "text/plain": [
       "     Source            SS  DF           MS       F     p-unc       np2\n",
       "0  Location   6645.526991   2  3322.763495  8.0431  0.001032  0.263336\n",
       "1    Within  18590.389676  45   413.119771     NaN       NaN       NaN"
      ]
     },
     "execution_count": 4,
     "metadata": {},
     "output_type": "execute_result"
    }
   ],
   "source": [
    "aov = pg.anova(dv='Over_Grade', between='Location', data=myDf, detailed=True)\n",
    "aov"
   ]
  },
  {
   "cell_type": "markdown",
   "metadata": {},
   "source": [
    "The most important result is probably the 'p-unc'. This is the p-value (also known as significance). It is the chance of an F value as in the sample, or even more extreme, if the assumption about the population would be true. The assumption is that all categories have the same mean in the population. With a p-value of 0.001 this is below the usual threshold of 0.05. We would therefor conclude that the location has a significant influence on the mean score of the 'Over_Grade'.\n",
    "\n",
    "See more details on significance on my website at https://PeterStatistics.com\n",
    "\n",
    "Lets see how we could get the same results with statsmodels.api."
   ]
  },
  {
   "cell_type": "markdown",
   "metadata": {},
   "source": [
    "## Using statsmodels.api"
   ]
  },
  {
   "cell_type": "markdown",
   "metadata": {},
   "source": [
    "First we import '<a href=\"https://www.statsmodels.org/\">statsmodels.api</a>'."
   ]
  },
  {
   "cell_type": "code",
   "execution_count": 5,
   "metadata": {},
   "outputs": [],
   "source": [
    "# !pip install statsmodels.api\n",
    "import statsmodels.api as sm"
   ]
  },
  {
   "cell_type": "markdown",
   "metadata": {},
   "source": [
    "Then load the '<a href=\"https://www.statsmodels.org/devel/generated/statsmodels.regression.linear_model.OLS.html\">ols</a>' (short for ordinary least squares) function:"
   ]
  },
  {
   "cell_type": "code",
   "execution_count": 6,
   "metadata": {},
   "outputs": [],
   "source": [
    "from statsmodels.formula.api import ols"
   ]
  },
  {
   "cell_type": "markdown",
   "metadata": {},
   "source": [
    "We then use this function to create a model. As input we use the scale variable, followed by a ~, and then the nominal variable. \n",
    "\n",
    "We also immediately fit this model."
   ]
  },
  {
   "cell_type": "code",
   "execution_count": 7,
   "metadata": {},
   "outputs": [],
   "source": [
    "model = ols('Over_Grade ~ Location', data=myDf).fit()"
   ]
  },
  {
   "cell_type": "markdown",
   "metadata": {},
   "source": [
    "Last thing to do is now use the '<a href=\"https://www.statsmodels.org/devel/generated/statsmodels.stats.anova.anova_lm.html#statsmodels.stats.anova.anova_lm\">stats.anova_lm</a>' function to see the results:"
   ]
  },
  {
   "cell_type": "code",
   "execution_count": 8,
   "metadata": {},
   "outputs": [
    {
     "data": {
      "text/html": [
       "<div>\n",
       "<style scoped>\n",
       "    .dataframe tbody tr th:only-of-type {\n",
       "        vertical-align: middle;\n",
       "    }\n",
       "\n",
       "    .dataframe tbody tr th {\n",
       "        vertical-align: top;\n",
       "    }\n",
       "\n",
       "    .dataframe thead th {\n",
       "        text-align: right;\n",
       "    }\n",
       "</style>\n",
       "<table border=\"1\" class=\"dataframe\">\n",
       "  <thead>\n",
       "    <tr style=\"text-align: right;\">\n",
       "      <th></th>\n",
       "      <th>sum_sq</th>\n",
       "      <th>df</th>\n",
       "      <th>F</th>\n",
       "      <th>PR(&gt;F)</th>\n",
       "    </tr>\n",
       "  </thead>\n",
       "  <tbody>\n",
       "    <tr>\n",
       "      <th>Location</th>\n",
       "      <td>6645.526991</td>\n",
       "      <td>2.0</td>\n",
       "      <td>8.0431</td>\n",
       "      <td>0.001032</td>\n",
       "    </tr>\n",
       "    <tr>\n",
       "      <th>Residual</th>\n",
       "      <td>18590.389676</td>\n",
       "      <td>45.0</td>\n",
       "      <td>NaN</td>\n",
       "      <td>NaN</td>\n",
       "    </tr>\n",
       "  </tbody>\n",
       "</table>\n",
       "</div>"
      ],
      "text/plain": [
       "                sum_sq    df       F    PR(>F)\n",
       "Location   6645.526991   2.0  8.0431  0.001032\n",
       "Residual  18590.389676  45.0     NaN       NaN"
      ]
     },
     "execution_count": 8,
     "metadata": {},
     "output_type": "execute_result"
    }
   ],
   "source": [
    "aovRes = sm.stats.anova_lm(model, typ=2)\n",
    "aovRes"
   ]
  },
  {
   "cell_type": "markdown",
   "metadata": {},
   "source": [
    "The same results as before with pingouin.\n",
    "\n",
    "Now we can also use scipy..."
   ]
  },
  {
   "cell_type": "markdown",
   "metadata": {},
   "source": [
    "## Using scipy"
   ]
  },
  {
   "cell_type": "markdown",
   "metadata": {},
   "source": [
    "To perform a one-way ANOVA with scipy, we need to have the scores in separate lists. First we store the nominal and scale variable separately."
   ]
  },
  {
   "cell_type": "code",
   "execution_count": 9,
   "metadata": {},
   "outputs": [],
   "source": [
    "myNom = myDf['Location']\n",
    "myScale = myDf['Over_Grade']"
   ]
  },
  {
   "cell_type": "markdown",
   "metadata": {},
   "source": [
    "Then, we create a list of booleans (true/false) that is True for each location:"
   ]
  },
  {
   "cell_type": "code",
   "execution_count": 10,
   "metadata": {},
   "outputs": [],
   "source": [
    "myCat1 = myNom == 'Diemen'\n",
    "myCat2 = myNom == 'Haarlem'\n",
    "myCat3 = myNom == 'Rotterdam'"
   ]
  },
  {
   "cell_type": "markdown",
   "metadata": {},
   "source": [
    "And finally create a list of each scores per category, using those boolean lists:"
   ]
  },
  {
   "cell_type": "code",
   "execution_count": 11,
   "metadata": {},
   "outputs": [],
   "source": [
    "myCatScores1 = myScale[myCat1].dropna()\n",
    "myCatScores2 = myScale[myCat2].dropna()\n",
    "myCatScores3 = myScale[myCat3].dropna()"
   ]
  },
  {
   "cell_type": "markdown",
   "metadata": {},
   "source": [
    "To perform the one-way ANOVA we can then import the '<a href=\"https://docs.scipy.org/doc/scipy/reference/generated/scipy.stats.f_oneway.html\">f_oneway</a>' function from the '<a href=\"https://docs.scipy.org/doc/scipy/reference/stats.html\">stats</a>' library in the '<a href=\"https://www.scipy.org/\">scipy</a>' package."
   ]
  },
  {
   "cell_type": "code",
   "execution_count": 12,
   "metadata": {},
   "outputs": [],
   "source": [
    "from scipy.stats import f_oneway"
   ]
  },
  {
   "cell_type": "markdown",
   "metadata": {},
   "source": [
    "To use the function, we simply fill in the different lists with scores:"
   ]
  },
  {
   "cell_type": "code",
   "execution_count": 13,
   "metadata": {},
   "outputs": [
    {
     "data": {
      "text/plain": [
       "F_onewayResult(statistic=8.043099681744273, pvalue=0.0010317196274324434)"
      ]
     },
     "execution_count": 13,
     "metadata": {},
     "output_type": "execute_result"
    }
   ],
   "source": [
    "f_oneway(myCatScores1, myCatScores2, myCatScores3)"
   ]
  },
  {
   "cell_type": "markdown",
   "metadata": {},
   "source": [
    "Less results, but the F-value and p-value are still the same as before.\n",
    "\n",
    "However, when reporting the results the degrees of freedom (df) is usually also needed. There are three different ones:\n",
    "\n",
    "\\begin{equation*}\n",
    "df_{between} = k - 1\n",
    "\\end{equation*}\n",
    "\\begin{equation*}\n",
    "df_{within} = n - 1\n",
    "\\end{equation*}\n",
    "\\begin{equation*}\n",
    "df_{total} = n - 1\n",
    "\\end{equation*}\n",
    "\n",
    "The $k$ is the number of categories, which we can simply get by taking the list of unique scores in the nominal field, using '<a href=\"https://pandas.pydata.org/pandas-docs/stable/reference/api/pandas.Series.unique.html\">unique</a>', and then Python's '<a href=\"https://docs.python.org/3/library/functions.html#len\">len</a>' to get the length (i.e. the number of elements).\n",
    "\n",
    "The $n$ is the total number of scores. We can get this by creating a cross table from the nominal and scale variable, using Pandas '<a href=\"https://pandas.pydata.org/pandas-docs/stable/reference/api/pandas.crosstab.html\">crosstab</a>', then sum twice (the first gets the row totals, then the sum of those will be the grand total.\n",
    "\n",
    "So first we get k and n:"
   ]
  },
  {
   "cell_type": "code",
   "execution_count": 14,
   "metadata": {},
   "outputs": [
    {
     "data": {
      "text/plain": [
       "(3, 48)"
      ]
     },
     "execution_count": 14,
     "metadata": {},
     "output_type": "execute_result"
    }
   ],
   "source": [
    "k = len(pd.unique(myNom))\n",
    "n = pd.crosstab(myNom, myScale).sum().sum()\n",
    "k, n"
   ]
  },
  {
   "cell_type": "markdown",
   "metadata": {},
   "source": [
    "The degrees of freedom are then easily found by filling out the formulas:"
   ]
  },
  {
   "cell_type": "code",
   "execution_count": 15,
   "metadata": {},
   "outputs": [
    {
     "data": {
      "text/plain": [
       "(2, 45, 47)"
      ]
     },
     "execution_count": 15,
     "metadata": {},
     "output_type": "execute_result"
    }
   ],
   "source": [
    "dfBetween = k - 1\n",
    "dfWithin = n - k\n",
    "dfTotal = n - 1\n",
    "\n",
    "dfBetween, dfWithin, dfTotal"
   ]
  },
  {
   "cell_type": "markdown",
   "metadata": {},
   "source": [
    "The df<sub>between</sub> and df<sub>within</sub> are the ones usually reported. See https://PeterStatistics.com for more details on reporting the results.\n",
    "\n",
    "In the appendix I'll show how you can avoid almost packages entirely by going over the formulas of the one-way ANOVA. Only for the F-distribution itself a package is still needed then."
   ]
  },
  {
   "cell_type": "code",
   "execution_count": null,
   "metadata": {},
   "outputs": [],
   "source": []
  },
  {
   "cell_type": "markdown",
   "metadata": {},
   "source": [
    "## Appendix: The Hard Way"
   ]
  },
  {
   "cell_type": "markdown",
   "metadata": {},
   "source": [
    "First we create true Python lists of the three lists of scores, and store them in a separate list as one:"
   ]
  },
  {
   "cell_type": "code",
   "execution_count": null,
   "metadata": {},
   "outputs": [],
   "source": [
    "scores1 = list(myCatScores1)\n",
    "scores2 = list(myCatScores2)\n",
    "scores3 = list(myCatScores3)\n",
    "\n",
    "scores = [scores1, scores2, scores3]\n",
    "print(scores)"
   ]
  },
  {
   "cell_type": "markdown",
   "metadata": {},
   "source": [
    "We can also have the number of categories using Python's '<a href=\"https://docs.python.org/3/library/functions.html#len\">len</a>':"
   ]
  },
  {
   "cell_type": "code",
   "execution_count": null,
   "metadata": {},
   "outputs": [],
   "source": [
    "k = len(scores)\n",
    "k"
   ]
  },
  {
   "cell_type": "markdown",
   "metadata": {},
   "source": [
    "We will need the mean of each category. The formula for the mean is:\n",
    "\n",
    "\\begin{equation*}\n",
    "\\bar{x}_i = \\frac{\\sum_{j=1}^{n_i} x_{i,j}}{n_i} \n",
    "\\end{equation*}\n",
    "\n",
    "Where $\\bar{x}_i$ indicates the mean of category i, $x_{i,j}$ the j-th score in category i, and $n_i$ the number of scores in category i.\n",
    "\n",
    "First the numerator of this fraction. It contains the sum for each category, and lets also keep the number of scores in each category:"
   ]
  },
  {
   "cell_type": "code",
   "execution_count": null,
   "metadata": {},
   "outputs": [],
   "source": [
    "ns = []\n",
    "sums = []\n",
    "\n",
    "for i in scores:\n",
    "    ns.append(len(i))\n",
    "    sums.append(sum(i))\n",
    "\n",
    "ns, sums"
   ]
  },
  {
   "cell_type": "markdown",
   "metadata": {},
   "source": [
    "The means can now simply be calculated:"
   ]
  },
  {
   "cell_type": "code",
   "execution_count": null,
   "metadata": {},
   "outputs": [],
   "source": [
    "means = []\n",
    "\n",
    "for i in range(k):\n",
    "    means.append(sums[i]/ns[i])\n",
    "\n",
    "means"
   ]
  },
  {
   "cell_type": "markdown",
   "metadata": {},
   "source": [
    "Next we'll need the sum of squares within, which has the scary formula of:\n",
    "\n",
    "\\begin{equation*}\n",
    "SS_w = \\sum_{i=1}^{k} \\sum_{j=1}^{n_i} \\left( x_{i,j} - \\bar{x}_i \\right)^2\n",
    "\\end{equation*}\n",
    "\n",
    "But we actually have all the information we need for this:"
   ]
  },
  {
   "cell_type": "code",
   "execution_count": null,
   "metadata": {},
   "outputs": [],
   "source": [
    "SSw = 0\n",
    "\n",
    "for i in range(k):\n",
    "    for j in range(ns[i]):\n",
    "        SSw = SSw + (scores[i][j] - means[i])**2\n",
    "\n",
    "SSw"
   ]
  },
  {
   "cell_type": "markdown",
   "metadata": {},
   "source": [
    "We will also need the mean of all scores:\n",
    "\n",
    "\\begin{equation*}\n",
    "\\bar{x} = \\frac{\\sum_{i=1}^{n} x_i}{n}\n",
    "\\end{equation*}\n",
    "\n",
    "where\n",
    "\n",
    "\\begin{equation*}\n",
    "n = \\sum_{i=1}^{k} n_i\n",
    "\\end{equation*}\n"
   ]
  },
  {
   "cell_type": "code",
   "execution_count": null,
   "metadata": {},
   "outputs": [],
   "source": [
    "nTot = sum(ns)\n",
    "sumTot = sum(sums)\n",
    "meanTot = sumTot / nTot\n",
    "\n",
    "nTot, sumTot, meanTot"
   ]
  },
  {
   "cell_type": "markdown",
   "metadata": {},
   "source": [
    "Then we can calculate the sum of squares between using:\n",
    "\n",
    "\\begin{equation*}\n",
    "SS_b = \\sum_{i=1}^{k} n_i \\times \\left( \\bar{x}_i - \\bar{x} \\right)^2\n",
    "\\end{equation*}\n",
    "\n",
    "Again, we have all we need already so:"
   ]
  },
  {
   "cell_type": "code",
   "execution_count": null,
   "metadata": {},
   "outputs": [],
   "source": [
    "SSb = 0\n",
    "for i in range(k):\n",
    "    SSb = SSb + ns[i] * (means[i] - meanTot)**2\n",
    "    \n",
    "SSb"
   ]
  },
  {
   "cell_type": "markdown",
   "metadata": {},
   "source": [
    "Almost there. We need those degrees of freedom. As before:\n",
    "\n",
    "\\begin{equation*}\n",
    "df_b = k - 1\n",
    "\\end{equation*}\n",
    "\n",
    "\n",
    "\\begin{equation*}\n",
    "df_w = n - k\n",
    "\\end{equation*}\n",
    "\n"
   ]
  },
  {
   "cell_type": "code",
   "execution_count": null,
   "metadata": {},
   "outputs": [],
   "source": [
    "dfb = k - 1\n",
    "dfw = nTot - k\n",
    "\n",
    "dfb, dfw"
   ]
  },
  {
   "cell_type": "markdown",
   "metadata": {},
   "source": [
    "The mean square within is then defined as:\n",
    "\n",
    "\\begin{equation*}\n",
    "MS_w = \\frac{SS_w}{df_w}\n",
    "\\end{equation*}\n"
   ]
  },
  {
   "cell_type": "code",
   "execution_count": null,
   "metadata": {},
   "outputs": [],
   "source": [
    "MSw = SSw / dfw\n",
    "MSw"
   ]
  },
  {
   "cell_type": "markdown",
   "metadata": {},
   "source": [
    "And the mean square between as:"
   ]
  },
  {
   "cell_type": "markdown",
   "metadata": {},
   "source": [
    "\n",
    "\\begin{equation*}\n",
    "MS_b = \\frac{SS_b}{df_b}\n",
    "\\end{equation*}\n",
    "\n"
   ]
  },
  {
   "cell_type": "code",
   "execution_count": null,
   "metadata": {},
   "outputs": [],
   "source": [
    "MSb = SSb / dfb\n",
    "MSb"
   ]
  },
  {
   "cell_type": "markdown",
   "metadata": {},
   "source": [
    "Finally the f-value is given by:\n",
    "\n",
    "\\begin{equation*}\n",
    "F = \\frac{MS_b}{MS_w}\n",
    "\\end{equation*}\n"
   ]
  },
  {
   "cell_type": "code",
   "execution_count": null,
   "metadata": {},
   "outputs": [],
   "source": [
    "F = MSb / MSw\n",
    "F"
   ]
  },
  {
   "cell_type": "markdown",
   "metadata": {},
   "source": [
    "To find the corresponding p-value we need the f-distribution. This becomes a bit too complicated to work out so here's where we will need a package. The scipy.stats module has an '<a href=\"https://docs.scipy.org/doc/scipy/reference/generated/scipy.stats.f.html\">f<a>' function, so lets import that one."
   ]
  },
  {
   "cell_type": "code",
   "execution_count": null,
   "metadata": {},
   "outputs": [],
   "source": [
    "from scipy.stats import f"
   ]
  },
  {
   "cell_type": "markdown",
   "metadata": {},
   "source": [
    "Then to find the corresponding p-value we can use the 'sf' function, with the F-value, the degrees of freedom between, and the degrees of freedom within:"
   ]
  },
  {
   "cell_type": "code",
   "execution_count": null,
   "metadata": {},
   "outputs": [],
   "source": [
    "f.sf(F, dfb, dfw)"
   ]
  },
  {
   "cell_type": "markdown",
   "metadata": {},
   "source": [
    "Et voila. The same as we saw in the other methods."
   ]
  },
  {
   "cell_type": "code",
   "execution_count": null,
   "metadata": {},
   "outputs": [],
   "source": []
  }
 ],
 "metadata": {
  "kernelspec": {
   "display_name": "Python 3 (ipykernel)",
   "language": "python",
   "name": "python3"
  },
  "language_info": {
   "codemirror_mode": {
    "name": "ipython",
    "version": 3
   },
   "file_extension": ".py",
   "mimetype": "text/x-python",
   "name": "python",
   "nbconvert_exporter": "python",
   "pygments_lexer": "ipython3",
   "version": "3.9.12"
  }
 },
 "nbformat": 4,
 "nbformat_minor": 4
}
