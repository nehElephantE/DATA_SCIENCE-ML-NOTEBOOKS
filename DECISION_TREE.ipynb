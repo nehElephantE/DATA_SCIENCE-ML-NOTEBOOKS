{
 "cells": [
  {
   "cell_type": "markdown",
   "id": "6f306c8e",
   "metadata": {},
   "source": [
    "# NEHA RAGESH NAMBIAR\n",
    "20BRS1110"
   ]
  },
  {
   "cell_type": "raw",
   "id": "2a280661",
   "metadata": {},
   "source": [
    "HARDCODED"
   ]
  },
  {
   "cell_type": "code",
   "execution_count": 2,
   "id": "b5f149d7",
   "metadata": {},
   "outputs": [
    {
     "name": "stdout",
     "output_type": "stream",
     "text": [
      "Start\n",
      "outlook\n",
      "Sunny\n",
      "humidity\n",
      "High\n",
      "No\n",
      "Normal\n",
      "Yes\n",
      "Overcast\n",
      "Yes\n",
      "Rain\n",
      "wind\n",
      "Weak\n",
      "Yes\n",
      "Strong\n",
      "No\n"
     ]
    }
   ],
   "source": [
    "import numpy as np\n",
    "import matplotlib.pyplot as plt\n",
    "import pandas as pd\n",
    "import math\n",
    "import copy\n",
    "\n",
    "dataset = pd.read_csv('play_tennis.csv')\n",
    "X = dataset.iloc[:, 1:].values\n",
    "# print(X)\n",
    "attribute = ['outlook', 'temp', 'humidity', 'wind']\n",
    "\n",
    "\n",
    "class Node(object):\n",
    "    def __init__(self):\n",
    "        self.value = None\n",
    "        self.decision = None\n",
    "        self.childs = None\n",
    "\n",
    "\n",
    "def findEntropy(data, rows):\n",
    "    yes = 0\n",
    "    no = 0\n",
    "    ans = -1\n",
    "    idx = len(data[0]) - 1\n",
    "    entropy = 0\n",
    "    for i in rows:\n",
    "        if data[i][idx] == 'Yes':\n",
    "            yes = yes + 1\n",
    "        else:\n",
    "            no = no + 1\n",
    "\n",
    "    x = yes/(yes+no)\n",
    "    y = no/(yes+no)\n",
    "    if x != 0 and y != 0:\n",
    "        entropy = -1 * (x*math.log2(x) + y*math.log2(y))\n",
    "    if x == 1:\n",
    "        ans = 1\n",
    "    if y == 1:\n",
    "        ans = 0\n",
    "    return entropy, ans\n",
    "\n",
    "\n",
    "def findMaxGain(data, rows, columns):\n",
    "    maxGain = 0\n",
    "    retidx = -1\n",
    "    entropy, ans = findEntropy(data, rows)\n",
    "    if entropy == 0:\n",
    "        return maxGain, retidx, ans\n",
    "\n",
    "    for j in columns:\n",
    "        mydict = {}\n",
    "        idx = j\n",
    "        for i in rows:\n",
    "            key = data[i][idx]\n",
    "            if key not in mydict:\n",
    "                mydict[key] = 1\n",
    "            else:\n",
    "                mydict[key] = mydict[key] + 1\n",
    "        gain = entropy\n",
    "\n",
    "\n",
    "        for key in mydict:\n",
    "            yes = 0\n",
    "            no = 0\n",
    "            for k in rows:\n",
    "                if data[k][j] == key:\n",
    "                    if data[k][-1] == 'Yes':\n",
    "                        yes = yes + 1\n",
    "                    else:\n",
    "                        no = no + 1\n",
    "            x = yes/(yes+no)\n",
    "            y = no/(yes+no)\n",
    "            if x != 0 and y != 0:\n",
    "                gain += (mydict[key] * (x*math.log2(x) + y*math.log2(y)))/14\n",
    "        if gain > maxGain:\n",
    "            maxGain = gain\n",
    "            retidx = j\n",
    "\n",
    "    return maxGain, retidx, ans\n",
    "\n",
    "\n",
    "def buildTree(data, rows, columns):\n",
    "\n",
    "    maxGain, idx, ans = findMaxGain(X, rows, columns)\n",
    "    root = Node()\n",
    "    root.childs = []\n",
    "    if maxGain == 0:\n",
    "        if ans == 1:\n",
    "            root.value = 'Yes'\n",
    "        else:\n",
    "            root.value = 'No'\n",
    "        return root\n",
    "\n",
    "    root.value = attribute[idx]\n",
    "    mydict = {}\n",
    "    for i in rows:\n",
    "        key = data[i][idx]\n",
    "        if key not in mydict:\n",
    "            mydict[key] = 1\n",
    "        else:\n",
    "            mydict[key] += 1\n",
    "\n",
    "    newcolumns = copy.deepcopy(columns)\n",
    "    newcolumns.remove(idx)\n",
    "    for key in mydict:\n",
    "        newrows = []\n",
    "        for i in rows:\n",
    "            if data[i][idx] == key:\n",
    "                newrows.append(i)\n",
    "        \n",
    "        temp = buildTree(data, newrows, newcolumns)\n",
    "        temp.decision = key\n",
    "        root.childs.append(temp)\n",
    "    return root\n",
    "\n",
    "\n",
    "def traverse(root):\n",
    "    print(root.decision)\n",
    "    print(root.value)\n",
    "\n",
    "    n = len(root.childs)\n",
    "    if n > 0:\n",
    "        for i in range(0, n):\n",
    "            traverse(root.childs[i])\n",
    "\n",
    "\n",
    "def calculate():\n",
    "    rows = [i for i in range(0, 14)]\n",
    "    columns = [i for i in range(0, 4)]\n",
    "    root = buildTree(X, rows, columns)\n",
    "    root.decision = 'Start'\n",
    "    traverse(root)\n",
    "\n",
    "\n",
    "calculate()"
   ]
  },
  {
   "cell_type": "raw",
   "id": "df38605c",
   "metadata": {},
   "source": [
    "# USING LIBRARY"
   ]
  },
  {
   "cell_type": "code",
   "execution_count": 3,
   "id": "ece33e89",
   "metadata": {},
   "outputs": [],
   "source": [
    "import numpy as np\n",
    "import pandas as pd\n",
    "from sklearn.tree import DecisionTreeClassifier\n",
    "from sklearn.preprocessing import LabelEncoder\n",
    "from sklearn.model_selection import train_test_split"
   ]
  },
  {
   "cell_type": "code",
   "execution_count": 4,
   "id": "c9927a3a",
   "metadata": {},
   "outputs": [
    {
     "name": "stdout",
     "output_type": "stream",
     "text": [
      "    outlook  temprature  humdity  windy  play\n",
      "0         2           1        0      1     0\n",
      "1         2           1        0      0     0\n",
      "2         0           1        0      1     1\n",
      "3         1           2        0      1     1\n",
      "4         1           0        1      1     1\n",
      "5         1           0        1      0     0\n",
      "6         0           0        1      0     1\n",
      "7         2           2        0      1     0\n",
      "8         2           0        1      1     1\n",
      "9         1           2        1      1     1\n",
      "10        2           2        1      0     1\n",
      "11        0           2        0      0     1\n",
      "12        0           1        1      1     1\n",
      "13        1           2        0      0     0\n",
      "     outlook temprature humdity   windy play\n",
      "0      Sunny        Hot    High    Weak   No\n",
      "1      Sunny        Hot    High  Strong   No\n",
      "2   Overcast        Hot    High    Weak  Yes\n",
      "3       Rain       Mild    High    Weak  Yes\n",
      "4       Rain       Cool  Normal    Weak  Yes\n",
      "5       Rain       Cool  Normal  Strong   No\n",
      "6   Overcast       Cool  Normal  Strong  Yes\n",
      "7      Sunny       Mild    High    Weak   No\n",
      "8      Sunny       Cool  Normal    Weak  Yes\n",
      "9       Rain       Mild  Normal    Weak  Yes\n",
      "10     Sunny       Mild  Normal  Strong  Yes\n",
      "11  Overcast       Mild    High  Strong  Yes\n",
      "12  Overcast        Hot  Normal    Weak  Yes\n",
      "13      Rain       Mild    High  Strong   No\n"
     ]
    }
   ],
   "source": [
    "dataset=pd.read_csv('play_tennis.csv')\n",
    "dataset=pd.DataFrame(data=dataset.iloc[:,1:6].values,columns=[\"outlook\",\"temprature\",\"humdity\",\"windy\",\"play\"])\n",
    "filter = dataset[\"outlook\"]==\"Rainy\"\n",
    "dataset.where(filter).count()\n",
    "dataset_encoded=dataset.iloc[:,0:5]\n",
    "le=LabelEncoder()\n",
    "\n",
    "for i in dataset_encoded:\n",
    "    dataset_encoded[i]=le.fit_transform(dataset_encoded[i])\n",
    "\n",
    "print(dataset_encoded)\n",
    "print(dataset)"
   ]
  },
  {
   "cell_type": "code",
   "execution_count": 5,
   "id": "18ef2ca4",
   "metadata": {},
   "outputs": [
    {
     "name": "stdout",
     "output_type": "stream",
     "text": [
      "yes you can play\n"
     ]
    }
   ],
   "source": [
    "#Feature Set\n",
    "X=dataset_encoded.iloc[:,0:4].values\n",
    "#Label Set\n",
    "y=dataset_encoded.iloc[:,4].values\n",
    "\n",
    "X_train,X_test,y_train,y_test=train_test_split(X,y,test_size=1,random_state=2)\n",
    "\n",
    "model=DecisionTreeClassifier(criterion='gini')\n",
    "model.fit(X_train,y_train)\n",
    "\n",
    "\n",
    "if model.predict([[0,1,0,1]])==1:\n",
    "    print(\"yes you can play\")\n",
    "else:\n",
    "    print(\"no you cant\")"
   ]
  },
  {
   "cell_type": "code",
   "execution_count": 6,
   "id": "58e36b7c",
   "metadata": {},
   "outputs": [
    {
     "name": "stdout",
     "output_type": "stream",
     "text": [
      "Accuracy: 0.0\n"
     ]
    }
   ],
   "source": [
    "y_pred= model.predict(X_test)\n",
    "import sklearn.metrics as metrics\n",
    "#from sklearn.metrics import accuracy_score\n",
    "print(\"Accuracy:\",metrics.accuracy_score(y_test, y_pred))"
   ]
  },
  {
   "cell_type": "code",
   "execution_count": 7,
   "id": "fc064ede",
   "metadata": {},
   "outputs": [],
   "source": [
    "import numpy as np \n",
    "import pandas as pd \n",
    "import matplotlib.pyplot as plt\n",
    "from sklearn.model_selection import train_test_split\n",
    "from sklearn.tree import DecisionTreeClassifier \n",
    "from sklearn.metrics import accuracy_score\n",
    "from sklearn.preprocessing import OneHotEncoder\n",
    "from sklearn import tree"
   ]
  },
  {
   "cell_type": "code",
   "execution_count": 8,
   "id": "c7631c16",
   "metadata": {},
   "outputs": [
    {
     "data": {
      "text/html": [
       "<div>\n",
       "<style scoped>\n",
       "    .dataframe tbody tr th:only-of-type {\n",
       "        vertical-align: middle;\n",
       "    }\n",
       "\n",
       "    .dataframe tbody tr th {\n",
       "        vertical-align: top;\n",
       "    }\n",
       "\n",
       "    .dataframe thead th {\n",
       "        text-align: right;\n",
       "    }\n",
       "</style>\n",
       "<table border=\"1\" class=\"dataframe\">\n",
       "  <thead>\n",
       "    <tr style=\"text-align: right;\">\n",
       "      <th></th>\n",
       "      <th>day</th>\n",
       "      <th>outlook</th>\n",
       "      <th>temp</th>\n",
       "      <th>humidity</th>\n",
       "      <th>wind</th>\n",
       "      <th>play</th>\n",
       "    </tr>\n",
       "  </thead>\n",
       "  <tbody>\n",
       "    <tr>\n",
       "      <th>0</th>\n",
       "      <td>D1</td>\n",
       "      <td>Sunny</td>\n",
       "      <td>Hot</td>\n",
       "      <td>High</td>\n",
       "      <td>Weak</td>\n",
       "      <td>No</td>\n",
       "    </tr>\n",
       "    <tr>\n",
       "      <th>1</th>\n",
       "      <td>D2</td>\n",
       "      <td>Sunny</td>\n",
       "      <td>Hot</td>\n",
       "      <td>High</td>\n",
       "      <td>Strong</td>\n",
       "      <td>No</td>\n",
       "    </tr>\n",
       "    <tr>\n",
       "      <th>2</th>\n",
       "      <td>D3</td>\n",
       "      <td>Overcast</td>\n",
       "      <td>Hot</td>\n",
       "      <td>High</td>\n",
       "      <td>Weak</td>\n",
       "      <td>Yes</td>\n",
       "    </tr>\n",
       "    <tr>\n",
       "      <th>3</th>\n",
       "      <td>D4</td>\n",
       "      <td>Rain</td>\n",
       "      <td>Mild</td>\n",
       "      <td>High</td>\n",
       "      <td>Weak</td>\n",
       "      <td>Yes</td>\n",
       "    </tr>\n",
       "    <tr>\n",
       "      <th>4</th>\n",
       "      <td>D5</td>\n",
       "      <td>Rain</td>\n",
       "      <td>Cool</td>\n",
       "      <td>Normal</td>\n",
       "      <td>Weak</td>\n",
       "      <td>Yes</td>\n",
       "    </tr>\n",
       "  </tbody>\n",
       "</table>\n",
       "</div>"
      ],
      "text/plain": [
       "  day   outlook  temp humidity    wind play\n",
       "0  D1     Sunny   Hot     High    Weak   No\n",
       "1  D2     Sunny   Hot     High  Strong   No\n",
       "2  D3  Overcast   Hot     High    Weak  Yes\n",
       "3  D4      Rain  Mild     High    Weak  Yes\n",
       "4  D5      Rain  Cool   Normal    Weak  Yes"
      ]
     },
     "execution_count": 8,
     "metadata": {},
     "output_type": "execute_result"
    }
   ],
   "source": [
    "df = pd.read_csv('play_tennis.csv')\n",
    "df.head()"
   ]
  },
  {
   "cell_type": "code",
   "execution_count": 9,
   "id": "cae85585",
   "metadata": {},
   "outputs": [],
   "source": [
    "X = df[['outlook', 'temp', 'humidity', 'wind']]\n",
    "y = df[['play']]\n",
    "\n",
    "X_train, X_test, y_train, y_test = train_test_split(X, y, test_size = 0.3, random_state = 42)"
   ]
  },
  {
   "cell_type": "code",
   "execution_count": 10,
   "id": "bd40c8b4",
   "metadata": {},
   "outputs": [
    {
     "name": "stderr",
     "output_type": "stream",
     "text": [
      "D:\\ANACONDA\\lib\\site-packages\\sklearn\\utils\\deprecation.py:87: FutureWarning: Function get_feature_names is deprecated; get_feature_names is deprecated in 1.0 and will be removed in 1.2. Please use get_feature_names_out instead.\n",
      "  warnings.warn(msg, category=FutureWarning)\n"
     ]
    },
    {
     "data": {
      "text/html": [
       "<div>\n",
       "<style scoped>\n",
       "    .dataframe tbody tr th:only-of-type {\n",
       "        vertical-align: middle;\n",
       "    }\n",
       "\n",
       "    .dataframe tbody tr th {\n",
       "        vertical-align: top;\n",
       "    }\n",
       "\n",
       "    .dataframe thead th {\n",
       "        text-align: right;\n",
       "    }\n",
       "</style>\n",
       "<table border=\"1\" class=\"dataframe\">\n",
       "  <thead>\n",
       "    <tr style=\"text-align: right;\">\n",
       "      <th></th>\n",
       "      <th>outlook_Overcast</th>\n",
       "      <th>outlook_Rain</th>\n",
       "      <th>outlook_Sunny</th>\n",
       "      <th>temp_Cool</th>\n",
       "      <th>temp_Hot</th>\n",
       "      <th>temp_Mild</th>\n",
       "      <th>humidity_High</th>\n",
       "      <th>humidity_Normal</th>\n",
       "      <th>wind_Strong</th>\n",
       "      <th>wind_Weak</th>\n",
       "    </tr>\n",
       "  </thead>\n",
       "  <tbody>\n",
       "    <tr>\n",
       "      <th>0</th>\n",
       "      <td>0.0</td>\n",
       "      <td>0.0</td>\n",
       "      <td>1.0</td>\n",
       "      <td>1.0</td>\n",
       "      <td>0.0</td>\n",
       "      <td>0.0</td>\n",
       "      <td>0.0</td>\n",
       "      <td>1.0</td>\n",
       "      <td>0.0</td>\n",
       "      <td>1.0</td>\n",
       "    </tr>\n",
       "    <tr>\n",
       "      <th>1</th>\n",
       "      <td>1.0</td>\n",
       "      <td>0.0</td>\n",
       "      <td>0.0</td>\n",
       "      <td>0.0</td>\n",
       "      <td>1.0</td>\n",
       "      <td>0.0</td>\n",
       "      <td>1.0</td>\n",
       "      <td>0.0</td>\n",
       "      <td>0.0</td>\n",
       "      <td>1.0</td>\n",
       "    </tr>\n",
       "    <tr>\n",
       "      <th>2</th>\n",
       "      <td>0.0</td>\n",
       "      <td>0.0</td>\n",
       "      <td>1.0</td>\n",
       "      <td>0.0</td>\n",
       "      <td>1.0</td>\n",
       "      <td>0.0</td>\n",
       "      <td>1.0</td>\n",
       "      <td>0.0</td>\n",
       "      <td>1.0</td>\n",
       "      <td>0.0</td>\n",
       "    </tr>\n",
       "    <tr>\n",
       "      <th>3</th>\n",
       "      <td>0.0</td>\n",
       "      <td>1.0</td>\n",
       "      <td>0.0</td>\n",
       "      <td>0.0</td>\n",
       "      <td>0.0</td>\n",
       "      <td>1.0</td>\n",
       "      <td>1.0</td>\n",
       "      <td>0.0</td>\n",
       "      <td>1.0</td>\n",
       "      <td>0.0</td>\n",
       "    </tr>\n",
       "    <tr>\n",
       "      <th>4</th>\n",
       "      <td>0.0</td>\n",
       "      <td>1.0</td>\n",
       "      <td>0.0</td>\n",
       "      <td>1.0</td>\n",
       "      <td>0.0</td>\n",
       "      <td>0.0</td>\n",
       "      <td>0.0</td>\n",
       "      <td>1.0</td>\n",
       "      <td>0.0</td>\n",
       "      <td>1.0</td>\n",
       "    </tr>\n",
       "  </tbody>\n",
       "</table>\n",
       "</div>"
      ],
      "text/plain": [
       "   outlook_Overcast  outlook_Rain  outlook_Sunny  temp_Cool  temp_Hot  \\\n",
       "0               0.0           0.0            1.0        1.0       0.0   \n",
       "1               1.0           0.0            0.0        0.0       1.0   \n",
       "2               0.0           0.0            1.0        0.0       1.0   \n",
       "3               0.0           1.0            0.0        0.0       0.0   \n",
       "4               0.0           1.0            0.0        1.0       0.0   \n",
       "\n",
       "   temp_Mild  humidity_High  humidity_Normal  wind_Strong  wind_Weak  \n",
       "0        0.0            0.0              1.0          0.0        1.0  \n",
       "1        0.0            1.0              0.0          0.0        1.0  \n",
       "2        0.0            1.0              0.0          1.0        0.0  \n",
       "3        1.0            1.0              0.0          1.0        0.0  \n",
       "4        0.0            0.0              1.0          0.0        1.0  "
      ]
     },
     "execution_count": 10,
     "metadata": {},
     "output_type": "execute_result"
    }
   ],
   "source": [
    "ohe = OneHotEncoder()\n",
    "\n",
    "ohe.fit(X_train)\n",
    "X_train_ohe = ohe.transform(X_train).toarray()\n",
    "\n",
    "ohe_df = pd.DataFrame(X_train_ohe, columns=ohe.get_feature_names(X_train.columns))\n",
    "\n",
    "ohe_df.head()"
   ]
  },
  {
   "cell_type": "code",
   "execution_count": 11,
   "id": "037604d4",
   "metadata": {},
   "outputs": [
    {
     "data": {
      "text/plain": [
       "DecisionTreeClassifier(criterion='entropy')"
      ]
     },
     "execution_count": 11,
     "metadata": {},
     "output_type": "execute_result"
    }
   ],
   "source": [
    "# Create the classifier, fit it on the training data and make predictions on the test set\n",
    "clf = DecisionTreeClassifier(criterion='entropy')\n",
    "\n",
    "clf.fit(X_train_ohe, y_train)"
   ]
  },
  {
   "cell_type": "code",
   "execution_count": 12,
   "id": "f69c17a7",
   "metadata": {},
   "outputs": [
    {
     "data": {
      "image/png": "[encoded data removed]",
      "text/plain": [
       "<Figure size 900x900 with 1 Axes>"
      ]
     },
     "metadata": {
      "needs_background": "light"
     },
     "output_type": "display_data"
    }
   ],
   "source": [
    "fig, axes = plt.subplots(nrows = 1,ncols = 1, figsize = (3,3), dpi=300)\n",
    "tree.plot_tree(clf,\n",
    "               feature_names = ohe_df.columns, \n",
    "               class_names=np.unique(y).astype('str'),\n",
    "               filled = True)\n",
    "plt.show()"
   ]
  },
  {
   "cell_type": "code",
   "execution_count": 13,
   "id": "6cd06ea9",
   "metadata": {},
   "outputs": [
    {
     "name": "stdout",
     "output_type": "stream",
     "text": [
      "Accuracy:  0.6\n"
     ]
    }
   ],
   "source": [
    "X_test_ohe = ohe.transform(X_test)\n",
    "y_preds = clf.predict(X_test_ohe)\n",
    "\n",
    "print('Accuracy: ', accuracy_score(y_test, y_preds))"
   ]
  }
 ],
 "metadata": {
  "kernelspec": {
   "display_name": "Python 3 (ipykernel)",
   "language": "python",
   "name": "python3"
  },
  "language_info": {
   "codemirror_mode": {
    "name": "ipython",
    "version": 3
   },
   "file_extension": ".py",
   "mimetype": "text/x-python",
   "name": "python",
   "nbconvert_exporter": "python",
   "pygments_lexer": "ipython3",
   "version": "3.9.12"
  }
 },
 "nbformat": 4,
 "nbformat_minor": 5
}
