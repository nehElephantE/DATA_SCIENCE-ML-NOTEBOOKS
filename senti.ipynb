{
 "cells": [
  {
   "cell_type": "code",
   "execution_count": 1,
   "id": "9b05eb70",
   "metadata": {},
   "outputs": [],
   "source": [
    "#importing libraries\n",
    "from textblob import TextBlob\n",
    "import nltk\n",
    "from newspaper import Article"
   ]
  },
  {
   "cell_type": "code",
   "execution_count": 2,
   "id": "7f2dc2ea",
   "metadata": {},
   "outputs": [],
   "source": [
    "url = 'https://www.amazon.in/gp/customer-reviews/R1J4FMSLO1IAUY/ref=cm_cr_arp_d_rvw_ttl?ie=UTF8&ASIN=B08VDXQK44'\n",
    "article = Article(url)"
   ]
  },
  {
   "cell_type": "code",
   "execution_count": 3,
   "id": "1a0f7cf4",
   "metadata": {},
   "outputs": [
    {
     "name": "stderr",
     "output_type": "stream",
     "text": [
      "[nltk_data] Downloading package punkt to\n",
      "[nltk_data]     C:\\Users\\NehRagNam\\AppData\\Roaming\\nltk_data...\n",
      "[nltk_data]   Package punkt is already up-to-date!\n"
     ]
    }
   ],
   "source": [
    "#NLP WALE FUNCTIONS\n",
    "article.download()\n",
    "article.parse()\n",
    "nltk.download('punkt')\n",
    "article.nlp()"
   ]
  },
  {
   "cell_type": "code",
   "execution_count": 4,
   "id": "7ae72b94",
   "metadata": {},
   "outputs": [
    {
     "name": "stdout",
     "output_type": "stream",
     "text": [
      "The shoe looks good as per the price but what I noticed that my entire feet is in utter pain and shoebite.\n",
      "Once you start walking few miles you will feel the pain.\n",
      "I have never experienced such pain wearing a shoe.\n",
      "Better add more 500rs to your budget and buy a better quality shoe.\n",
      "Pure waste of money.\n"
     ]
    }
   ],
   "source": [
    "text = article.summary\n",
    "print(text)"
   ]
  },
  {
   "cell_type": "code",
   "execution_count": 5,
   "id": "191796c3",
   "metadata": {},
   "outputs": [
    {
     "name": "stdout",
     "output_type": "stream",
     "text": [
      "0.14675324675324675\n"
     ]
    }
   ],
   "source": [
    "obj = TextBlob(text)\n",
    "sentiment = obj.sentiment.polarity\n",
    "print(sentiment)\n",
    "\n",
    "# -1 ka negative, neutral ka 0 and positive ka 1"
   ]
  },
  {
   "cell_type": "code",
   "execution_count": 6,
   "id": "d0d56138",
   "metadata": {},
   "outputs": [
    {
     "name": "stdout",
     "output_type": "stream",
     "text": [
      "Qualified Lead\n"
     ]
    }
   ],
   "source": [
    "if (sentiment > 0):\n",
    "    print(\"Qualified Lead\")"
   ]
  },
  {
   "cell_type": "markdown",
   "id": "f9212f43",
   "metadata": {},
   "source": [
    "# TWITTER WALA"
   ]
  },
  {
   "cell_type": "code",
   "execution_count": 1,
   "id": "dd4e2813",
   "metadata": {},
   "outputs": [],
   "source": [
    "#lib import karo\n",
    "import tweepy\n",
    "from wordcloud import WordCloud\n",
    "import re\n",
    "import matplotlib.pyplot as plt\n",
    "plt.style.use('fivethirtyeight')"
   ]
  },
  {
   "cell_type": "code",
   "execution_count": null,
   "id": "f7ad3012",
   "metadata": {},
   "outputs": [],
   "source": []
  }
 ],
 "metadata": {
  "kernelspec": {
   "display_name": "Python 3 (ipykernel)",
   "language": "python",
   "name": "python3"
  },
  "language_info": {
   "codemirror_mode": {
    "name": "ipython",
    "version": 3
   },
   "file_extension": ".py",
   "mimetype": "text/x-python",
   "name": "python",
   "nbconvert_exporter": "python",
   "pygments_lexer": "ipython3",
   "version": "3.9.12"
  }
 },
 "nbformat": 4,
 "nbformat_minor": 5
}
