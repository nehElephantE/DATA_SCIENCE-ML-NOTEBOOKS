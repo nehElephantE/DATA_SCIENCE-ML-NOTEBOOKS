{
 "cells": [
  {
   "cell_type": "code",
   "execution_count": 8,
   "id": "2af44750",
   "metadata": {},
   "outputs": [
    {
     "name": "stdout",
     "output_type": "stream",
     "text": [
      "200\n"
     ]
    }
   ],
   "source": [
    "import requests\n",
    "from bs4 import BeautifulSoup\n",
    "import re\n",
    "\n",
    "url = 'https://indiankanoon.org/search/'\n",
    "try:\n",
    "    response = requests.get(url, stream=True)\n",
    "    response.raise_for_status()  # Raise an exception for non-200 status codes\n",
    "except requests.exceptions.RequestException as e:\n",
    "    print(f\"Error occurred: {e}\")\n",
    "    exit()\n",
    "\n",
    "print(response.status_code)\n",
    "if response.status_code != 200:\n",
    "    print(\"Failed to fetch the website's HTML content.\")\n",
    "    exit()\n",
    "\n",
    "soup = BeautifulSoup(response.content, 'html.parser')\n",
    "\n",
    "# Define your list of keywords\n",
    "keywords = [\"Third party claim\", \"Bajaj\"]\n",
    "\n",
    "# Regular expression pattern to match keywords in links\n",
    "pattern = re.compile('|'.join(keywords), re.IGNORECASE)\n",
    "\n",
    "# Find all anchor tags <a> with href attributes that match the keyword pattern\n",
    "pdf_links = soup.find_all('a', href=pattern)\n",
    "\n",
    "for link in pdf_links:\n",
    "    pdf_url = link['href']\n",
    "\n",
    "    if not pdf_url.startswith('http'):\n",
    "        pdf_url = url + pdf_url\n",
    "\n",
    "    try:\n",
    "        pdf_response = requests.get(pdf_url)\n",
    "\n",
    "        if pdf_response.status_code == 200:\n",
    "            pdf_filename = link.get_text() + '.pdf'\n",
    "            with open(pdf_filename, 'wb') as f:\n",
    "                f.write(pdf_response.content)\n",
    "            print(f\"Downloaded: {pdf_filename}\")\n",
    "        elif pdf_response.status_code == 403:\n",
    "            print(f\"Skipped (403 Forbidden): {pdf_url}\")\n",
    "        else:\n",
    "            print(f\"Failed to download: {pdf_url}\")\n",
    "    except requests.exceptions.RequestException as e:\n",
    "        print(f\"Error occurred: {e}\")"
   ]
  },
  {
   "cell_type": "code",
   "execution_count": null,
   "id": "d635306e",
   "metadata": {},
   "outputs": [],
   "source": []
  }
 ],
 "metadata": {
  "kernelspec": {
   "display_name": "Python 3 (ipykernel)",
   "language": "python",
   "name": "python3"
  },
  "language_info": {
   "codemirror_mode": {
    "name": "ipython",
    "version": 3
   },
   "file_extension": ".py",
   "mimetype": "text/x-python",
   "name": "python",
   "nbconvert_exporter": "python",
   "pygments_lexer": "ipython3",
   "version": "3.9.12"
  }
 },
 "nbformat": 4,
 "nbformat_minor": 5
}
