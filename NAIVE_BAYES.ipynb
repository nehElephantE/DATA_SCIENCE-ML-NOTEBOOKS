{
 "cells": [
  {
   "cell_type": "markdown",
   "id": "e9dd9dd4",
   "metadata": {},
   "source": [
    "# NEHA RAGESH NAMBIAR\n",
    "20BRS1110"
   ]
  },
  {
   "cell_type": "code",
   "execution_count": 1,
   "id": "6d86243c",
   "metadata": {},
   "outputs": [],
   "source": [
    "import csv\n",
    "import math\n",
    "import random"
   ]
  },
  {
   "cell_type": "code",
   "execution_count": 2,
   "id": "884d2d4f",
   "metadata": {},
   "outputs": [
    {
     "data": {
      "text/html": [
       "<div>\n",
       "<style scoped>\n",
       "    .dataframe tbody tr th:only-of-type {\n",
       "        vertical-align: middle;\n",
       "    }\n",
       "\n",
       "    .dataframe tbody tr th {\n",
       "        vertical-align: top;\n",
       "    }\n",
       "\n",
       "    .dataframe thead th {\n",
       "        text-align: right;\n",
       "    }\n",
       "</style>\n",
       "<table border=\"1\" class=\"dataframe\">\n",
       "  <thead>\n",
       "    <tr style=\"text-align: right;\">\n",
       "      <th></th>\n",
       "      <th>day</th>\n",
       "      <th>outlook</th>\n",
       "      <th>temp</th>\n",
       "      <th>humidity</th>\n",
       "      <th>wind</th>\n",
       "      <th>play</th>\n",
       "    </tr>\n",
       "  </thead>\n",
       "  <tbody>\n",
       "    <tr>\n",
       "      <th>0</th>\n",
       "      <td>D1</td>\n",
       "      <td>Sunny</td>\n",
       "      <td>Hot</td>\n",
       "      <td>High</td>\n",
       "      <td>Weak</td>\n",
       "      <td>No</td>\n",
       "    </tr>\n",
       "    <tr>\n",
       "      <th>1</th>\n",
       "      <td>D2</td>\n",
       "      <td>Sunny</td>\n",
       "      <td>Hot</td>\n",
       "      <td>High</td>\n",
       "      <td>Strong</td>\n",
       "      <td>No</td>\n",
       "    </tr>\n",
       "    <tr>\n",
       "      <th>2</th>\n",
       "      <td>D3</td>\n",
       "      <td>Overcast</td>\n",
       "      <td>Hot</td>\n",
       "      <td>High</td>\n",
       "      <td>Weak</td>\n",
       "      <td>Yes</td>\n",
       "    </tr>\n",
       "    <tr>\n",
       "      <th>3</th>\n",
       "      <td>D4</td>\n",
       "      <td>Rain</td>\n",
       "      <td>Mild</td>\n",
       "      <td>High</td>\n",
       "      <td>Weak</td>\n",
       "      <td>Yes</td>\n",
       "    </tr>\n",
       "    <tr>\n",
       "      <th>4</th>\n",
       "      <td>D5</td>\n",
       "      <td>Rain</td>\n",
       "      <td>Cool</td>\n",
       "      <td>Normal</td>\n",
       "      <td>Weak</td>\n",
       "      <td>Yes</td>\n",
       "    </tr>\n",
       "  </tbody>\n",
       "</table>\n",
       "</div>"
      ],
      "text/plain": [
       "  day   outlook  temp humidity    wind play\n",
       "0  D1     Sunny   Hot     High    Weak   No\n",
       "1  D2     Sunny   Hot     High  Strong   No\n",
       "2  D3  Overcast   Hot     High    Weak  Yes\n",
       "3  D4      Rain  Mild     High    Weak  Yes\n",
       "4  D5      Rain  Cool   Normal    Weak  Yes"
      ]
     },
     "execution_count": 2,
     "metadata": {},
     "output_type": "execute_result"
    }
   ],
   "source": [
    "import numpy as np\n",
    "import pandas as pd\n",
    "import matplotlib.pyplot as plt\n",
    "import seaborn as sns\n",
    "\n",
    "data = pd.read_csv(\"play_tennis.csv\")\n",
    "data.head()"
   ]
  },
  {
   "cell_type": "code",
   "execution_count": 3,
   "id": "80207c2e",
   "metadata": {},
   "outputs": [
    {
     "name": "stdout",
     "output_type": "stream",
     "text": [
      "<class 'pandas.core.frame.DataFrame'>\n",
      "RangeIndex: 14 entries, 0 to 13\n",
      "Data columns (total 6 columns):\n",
      " #   Column    Non-Null Count  Dtype \n",
      "---  ------    --------------  ----- \n",
      " 0   day       14 non-null     object\n",
      " 1   outlook   14 non-null     object\n",
      " 2   temp      14 non-null     object\n",
      " 3   humidity  14 non-null     object\n",
      " 4   wind      14 non-null     object\n",
      " 5   play      14 non-null     object\n",
      "dtypes: object(6)\n",
      "memory usage: 800.0+ bytes\n"
     ]
    }
   ],
   "source": [
    "data.info()"
   ]
  },
  {
   "cell_type": "code",
   "execution_count": 4,
   "id": "cd87d865",
   "metadata": {},
   "outputs": [
    {
     "data": {
      "text/plain": [
       "14"
      ]
     },
     "execution_count": 4,
     "metadata": {},
     "output_type": "execute_result"
    }
   ],
   "source": [
    "len(data)"
   ]
  },
  {
   "cell_type": "code",
   "execution_count": 5,
   "id": "69e2a104",
   "metadata": {},
   "outputs": [
    {
     "data": {
      "text/plain": [
       "6"
      ]
     },
     "execution_count": 5,
     "metadata": {},
     "output_type": "execute_result"
    }
   ],
   "source": [
    "len(data.columns) "
   ]
  },
  {
   "cell_type": "code",
   "execution_count": 6,
   "id": "fe4018b3",
   "metadata": {},
   "outputs": [
    {
     "name": "stdout",
     "output_type": "stream",
     "text": [
      "0 day\n",
      "1 outlook\n",
      "2 temp\n",
      "3 humidity\n",
      "4 wind\n",
      "5 play\n"
     ]
    }
   ],
   "source": [
    "for i, v in enumerate(data.columns):\n",
    "    print(i, v)"
   ]
  },
  {
   "cell_type": "code",
   "execution_count": 7,
   "id": "e23ab494",
   "metadata": {},
   "outputs": [
    {
     "name": "stdout",
     "output_type": "stream",
     "text": [
      "day object\n",
      "outlook object\n",
      "temp object\n",
      "humidity object\n",
      "wind object\n",
      "play object\n"
     ]
    }
   ],
   "source": [
    "for name, dtype in data.dtypes.iteritems():\n",
    "    print(name, dtype)\n"
   ]
  },
  {
   "cell_type": "code",
   "execution_count": 11,
   "id": "f12cf34d",
   "metadata": {},
   "outputs": [
    {
     "name": "stdout",
     "output_type": "stream",
     "text": [
      "\n",
      "==============  SAMPLE DATA GIVEN =============\n",
      "\n",
      "    day   outlook  temp humidity    wind play\n",
      "1    D1     Sunny   Hot     High    Weak   No\n",
      "2    D2     Sunny   Hot     High  Strong   No\n",
      "3    D3  Overcast   Hot     High    Weak  Yes\n",
      "4    D4      Rain  Mild     High    Weak  Yes\n",
      "5    D5      Rain  Cool   Normal    Weak  Yes\n",
      "6    D6      Rain  Cool   Normal  Strong   No\n",
      "7    D7  Overcast  Cool   Normal  Strong  Yes\n",
      "8    D8     Sunny  Mild     High    Weak   No\n",
      "9    D9     Sunny  Cool   Normal    Weak  Yes\n",
      "10  D10      Rain  Mild   Normal    Weak  Yes\n",
      "11  D11     Sunny  Mild   Normal  Strong  Yes\n",
      "12  D12  Overcast  Mild     High  Strong  Yes\n",
      "13  D13  Overcast   Hot   Normal    Weak  Yes\n",
      "14  D14      Rain  Mild     High  Strong   No\n",
      "\n",
      "==============  SELECT A COLOUMN TO PREDICT USING NAIVE BIAS  ============\n",
      "\n",
      "1. day\n",
      "2. outlook\n",
      "3. temp\n",
      "4. humidity\n",
      "5. wind\n",
      "6. play\n",
      " >> Choose the coloumn to predict, (Enter no):2\n",
      " \n",
      " >> Predicting Coloumn : outlook  \n",
      "\n",
      "=============== INSERT SAMPLE DATA =================\n",
      "1. D1\n",
      "2. D2\n",
      "3. D3\n",
      "4. D4\n",
      "5. D5\n",
      "6. D6\n",
      "7. D7\n",
      "8. D8\n",
      "9. D9\n",
      "10. D10\n",
      "11. D11\n",
      "12. D12\n",
      "13. D13\n",
      "14. D14\n",
      " >> Select the sample data, for coloumn `` day ``,(Enter no) : 3\n",
      "\n",
      "\n",
      "1. Hot\n",
      "2. Mild\n",
      "3. Cool\n",
      " >> Select the sample data, for coloumn `` temp ``,(Enter no) : 2\n",
      "\n",
      "\n",
      "1. High\n",
      "2. Normal\n",
      " >> Select the sample data, for coloumn `` humidity ``,(Enter no) : 1\n",
      "\n",
      "\n",
      "1. Weak\n",
      "2. Strong\n",
      " >> Select the sample data, for coloumn `` wind ``,(Enter no) : 1\n",
      "\n",
      "\n",
      "1. No\n",
      "2. Yes\n",
      " >> Select the sample data, for coloumn `` play ``,(Enter no) : 2\n",
      "\n",
      "\n",
      "\n",
      "=========== SAMPLE DATA ===========\n",
      "\n",
      " >> day :  D3\n",
      " >> temp :  Mild\n",
      " >> humidity :  High\n",
      " >> wind :  Weak\n",
      " >> play :  Yes\n",
      "\n",
      "=========== DIFFERENT CLASS VALUES IN PREDICTION COLOUMN =============\n",
      "\n",
      " >> Sunny :  5\n",
      " >> Overcast :  4\n",
      " >> Rain :  5\n",
      "\n",
      "=========== VALUES MATCHED FOR SAMPLE DATA ============\n",
      "\n",
      "          Sunny  Overcast  Rain\n",
      "day           0         1     0\n",
      "temp          2         1     3\n",
      "humidity      3         2     2\n",
      "wind          3         2     3\n",
      "play          2         4     3\n",
      "\n",
      "============ FINAL PROBABILITY FOR EACH PREDICTION ==============\n",
      "\n",
      "\n",
      " >>Prediction using naive bias is, outlook = None\n"
     ]
    }
   ],
   "source": [
    "import pandas as pd\n",
    "class_value={}\n",
    "coloumn={}\n",
    "data=[]\n",
    "sample_data={}\n",
    "result={}\n",
    "global diff_values\n",
    "diff_values=['empty']\n",
    "\n",
    "def return_different_class_value(value):\n",
    "    found=0\n",
    "    for x in class_value:\n",
    "        if(x==value):\n",
    "            found=1\n",
    "    if(found==0):\n",
    "        class_value[value]=1\n",
    "    else:\n",
    "        class_value[value]+=1\n",
    "        \n",
    "def find_diff_value(values):\n",
    "    already=0\n",
    "    for index in diff_values:\n",
    "        if(index==values):\n",
    "            already=1\n",
    "    if(already==0):\n",
    "        diff_values.append(values)\n",
    "        \n",
    "def get_sample_data(prediction_value):\n",
    "    for key in coloumn:\n",
    "        attribute_no=1\n",
    "        if(key!=prediction_value):\n",
    "            for i in range(0,end):\n",
    "                find_diff_value(data[i][coloumn[key]])\n",
    "            del diff_values[0]\n",
    "            for fields in diff_values:\n",
    "                print('%d. %s'%(attribute_no,fields))\n",
    "                attribute_no+=1\n",
    "            what_data=int(input(' >> Select the sample data, for coloumn `` %s ``,(Enter no) : '%(coloumn[key])))\n",
    "            sample_data[coloumn[key]]=diff_values[what_data-1]\n",
    "            del diff_values[:]\n",
    "            diff_values.append('empty')\n",
    "            print(\"\\n\")\n",
    "            \n",
    "             \n",
    "def choose_value():\n",
    "    global to_find\n",
    "    to_find=int(input(' >> Choose the coloumn to predict, (Enter no):'))\n",
    "    print(' \\n >> Predicting Coloumn : %s  '%(coloumn[to_find]))\n",
    "    global end\n",
    "    end=len(data)\n",
    "    for i in range(0,end):\n",
    "        return_different_class_value(data[i][coloumn[to_find]])\n",
    "    print(\"\\n=============== INSERT SAMPLE DATA =================\")\n",
    "    get_sample_data(to_find)\n",
    "    #del diff_value[0]\n",
    "\n",
    "def get_index(value):\n",
    "    for c in coloumn:\n",
    "        if(value==coloumn[c]):\n",
    "            return c\n",
    "        \n",
    "def find_probability(sample,classes):\n",
    "    index=get_index(sample)\n",
    "    k=0\n",
    "    for i in range(0,end):\n",
    "        if(sample_data[sample]==data[i][coloumn[index]] and classes==data[i][coloumn[to_find]]):\n",
    "            k+=1\n",
    "    return k\n",
    "\n",
    "def find_max(d):\n",
    "     v=list(d.values())\n",
    "     k=list(d.keys())\n",
    "     return k[v.index(max(v))]\n",
    "\n",
    "\n",
    "def print_dict_as_table(dict):\n",
    "    df = pd.DataFrame(dict).T\n",
    "    df.fillna(0, inplace=True)\n",
    "    print(df)\n",
    "\n",
    "def main():\n",
    "    import csv\n",
    "    with open('play_tennis.csv') as csvfile:\n",
    "        reader = csv.DictReader(csvfile)\n",
    "        sr_no=1\n",
    "        for row in reader:\n",
    "            #print('%s'%(row))\n",
    "            data.append(row)\n",
    "            sr_no+=1\n",
    "    print('\\n==============  SAMPLE DATA GIVEN =============\\n')\n",
    "    print(pd.DataFrame(data,index=list(range(1,len(data)+1))))\n",
    "    print('\\n==============  SELECT A COLOUMN TO PREDICT USING NAIVE BIAS  ============\\n')\n",
    "    no_2=1\n",
    "    for key in data[0]:\n",
    "        print('%d. %s'%(no_2,key))\n",
    "        coloumn[no_2]=key\n",
    "        no_2+=1\n",
    "    choose_value()\n",
    "    global prob_dict\n",
    "    laplacian=False\n",
    "    prob_dict={}\n",
    "    for samples in sample_data:\n",
    "        temp_dict={}\n",
    "        for classes in class_value:\n",
    "            prob=find_probability(samples,classes)\n",
    "            temp_dict[classes]=prob\n",
    "        prob_dict[samples]=temp_dict\n",
    "    print('\\n=========== SAMPLE DATA ===========\\n')\n",
    "    for s in sample_data:\n",
    "        print(' >> %s :  %s'%(s,sample_data[s]))\n",
    "    print(\"\\n=========== DIFFERENT CLASS VALUES IN PREDICTION COLOUMN =============\\n\")\n",
    "    for c in class_value:\n",
    "        print(' >> %s :  %s'%(c,class_value[c]))\n",
    "    print('\\n=========== VALUES MATCHED FOR SAMPLE DATA ============\\n')\n",
    "    print_dict_as_table(prob_dict)\n",
    "    for prob in prob_dict:\n",
    "        for classes in class_value:\n",
    "            if(prob_dict[prob][classes]== 0):\n",
    "                pass\n",
    "    \n",
    "    \n",
    "if __name__==\"__main__\":\n",
    "    answer=main()\n",
    "    print('\\n============ FINAL PROBABILITY FOR EACH PREDICTION ==============\\n')\n",
    "    for i in result:\n",
    "        print(' >> %s  : %s '%(i,result[i]))\n",
    "    print('\\n >>Prediction using naive bias is, %s = %s'%(coloumn[to_find],answer))\n",
    "    "
   ]
  },
  {
   "cell_type": "code",
   "execution_count": 12,
   "id": "29267d9b",
   "metadata": {},
   "outputs": [],
   "source": [
    "from sklearn import preprocessing\n",
    "from sklearn.naive_bayes import GaussianNB\n",
    "import pandas as pd\n",
    "from sklearn.model_selection import train_test_split\n",
    "from sklearn.metrics import confusion_matrix\n",
    "from sklearn import metrics\n",
    "from sklearn.metrics import plot_confusion_matrix\n",
    "import numpy as np\n",
    "import matplotlib.pyplot as plt"
   ]
  },
  {
   "cell_type": "code",
   "execution_count": 13,
   "id": "ed4cea7d",
   "metadata": {},
   "outputs": [
    {
     "name": "stdout",
     "output_type": "stream",
     "text": [
      "<class 'pandas.core.frame.DataFrame'>\n",
      "RangeIndex: 14 entries, 0 to 13\n",
      "Data columns (total 6 columns):\n",
      " #   Column    Non-Null Count  Dtype \n",
      "---  ------    --------------  ----- \n",
      " 0   day       14 non-null     object\n",
      " 1   outlook   14 non-null     object\n",
      " 2   temp      14 non-null     object\n",
      " 3   humidity  14 non-null     object\n",
      " 4   wind      14 non-null     object\n",
      " 5   play      14 non-null     object\n",
      "dtypes: object(6)\n",
      "memory usage: 800.0+ bytes\n"
     ]
    }
   ],
   "source": [
    "data = pd.read_csv(\"play_tennis.csv\")\n",
    "data.info()"
   ]
  },
  {
   "cell_type": "code",
   "execution_count": 14,
   "id": "1d8a37f7",
   "metadata": {},
   "outputs": [],
   "source": [
    "data_train = pd.read_csv('play_tennis.csv')\n",
    "data_test = pd.read_csv('play_tennis.csv')"
   ]
  },
  {
   "cell_type": "code",
   "execution_count": 15,
   "id": "3275a267",
   "metadata": {},
   "outputs": [],
   "source": [
    "le = preprocessing.LabelEncoder()\n",
    "data_train_df = pd.DataFrame(data_train)\n",
    "data_train_df_encoded = data_train_df.apply(le.fit_transform)\n",
    "\n",
    "data_test_df = pd.DataFrame(data_test)\n",
    "data_test_df_encoded = data_test_df.apply(le.fit_transform)"
   ]
  },
  {
   "cell_type": "code",
   "execution_count": 16,
   "id": "d2b2a83b",
   "metadata": {},
   "outputs": [],
   "source": [
    "x_train = data_train_df_encoded.drop(['play'],axis=1)\n",
    "y_train = data_train_df_encoded['play']\n",
    "\n",
    "x_test = data_test_df_encoded.drop(['play'],axis=1)\n",
    "y_test = data_test_df_encoded['play']"
   ]
  },
  {
   "cell_type": "code",
   "execution_count": 17,
   "id": "b385cf5c",
   "metadata": {},
   "outputs": [
    {
     "name": "stdout",
     "output_type": "stream",
     "text": [
      "Accuracy: 0.9285714285714286\n"
     ]
    }
   ],
   "source": [
    "model = GaussianNB()\n",
    "nbtrain = model.fit(x_train, y_train)\n",
    "\n",
    "y_pred = nbtrain.predict(x_test)\n",
    "print(\"Accuracy:\",metrics.accuracy_score(y_test, y_pred))"
   ]
  },
  {
   "cell_type": "code",
   "execution_count": 18,
   "id": "5f37ce63",
   "metadata": {},
   "outputs": [
    {
     "name": "stdout",
     "output_type": "stream",
     "text": [
      "Confusion Matrix\n",
      "[[4 1]\n",
      " [0 9]]\n"
     ]
    },
    {
     "name": "stderr",
     "output_type": "stream",
     "text": [
      "D:\\ANACONDA\\lib\\site-packages\\sklearn\\utils\\deprecation.py:87: FutureWarning: Function plot_confusion_matrix is deprecated; Function `plot_confusion_matrix` is deprecated in 1.0 and will be removed in 1.2. Use one of the class methods: ConfusionMatrixDisplay.from_predictions or ConfusionMatrixDisplay.from_estimator.\n",
      "  warnings.warn(msg, category=FutureWarning)\n"
     ]
    },
    {
     "data": {
      "image/png": "[encoded data removed]",
      "text/plain": [
       "<Figure size 432x288 with 2 Axes>"
      ]
     },
     "metadata": {
      "needs_background": "light"
     },
     "output_type": "display_data"
    }
   ],
   "source": [
    "disp = plot_confusion_matrix(nbtrain, x_test, y_test,\n",
    "                                 display_labels=['No','Yes'],\n",
    "                                 cmap=plt.cm.Blues)\n",
    "disp.ax_.set_title('Confusion Matrix')\n",
    "\n",
    "print('Confusion Matrix')\n",
    "print(disp.confusion_matrix)\n",
    "\n",
    "plt.show()\n",
    "# confusion_matrix(y_test, y_pred, labels=[0, 1])"
   ]
  },
  {
   "cell_type": "markdown",
   "id": "b8369ae9",
   "metadata": {},
   "source": [
    "# DIFFERENT INBUILT DATASET"
   ]
  },
  {
   "cell_type": "code",
   "execution_count": 21,
   "id": "5b3e2809",
   "metadata": {},
   "outputs": [
    {
     "name": "stdout",
     "output_type": "stream",
     "text": [
      "Features:  ['alcohol', 'malic_acid', 'ash', 'alcalinity_of_ash', 'magnesium', 'total_phenols', 'flavanoids', 'nonflavanoid_phenols', 'proanthocyanins', 'color_intensity', 'hue', 'od280/od315_of_diluted_wines', 'proline']\n",
      "Labels:  ['class_0' 'class_1' 'class_2']\n",
      "      0     1     2     3      4     5     6     7     8     9     10    11  \\\n",
      "0  14.23  1.71  2.43  15.6  127.0  2.80  3.06  0.28  2.29  5.64  1.04  3.92   \n",
      "1  13.20  1.78  2.14  11.2  100.0  2.65  2.76  0.26  1.28  4.38  1.05  3.40   \n",
      "2  13.16  2.36  2.67  18.6  101.0  2.80  3.24  0.30  2.81  5.68  1.03  3.17   \n",
      "3  14.37  1.95  2.50  16.8  113.0  3.85  3.49  0.24  2.18  7.80  0.86  3.45   \n",
      "4  13.24  2.59  2.87  21.0  118.0  2.80  2.69  0.39  1.82  4.32  1.04  2.93   \n",
      "\n",
      "       12  \n",
      "0  1065.0  \n",
      "1  1050.0  \n",
      "2  1185.0  \n",
      "3  1480.0  \n",
      "4   735.0  \n",
      "(178, 13)\n",
      "[0 0 0 0 0 0 0 0 0 0 0 0 0 0 0 0 0 0 0 0 0 0 0 0 0 0 0 0 0 0 0 0 0 0 0 0 0\n",
      " 0 0 0 0 0 0 0 0 0 0 0 0 0 0 0 0 0 0 0 0 0 0 1 1 1 1 1 1 1 1 1 1 1 1 1 1 1\n",
      " 1 1 1 1 1 1 1 1 1 1 1 1 1 1 1 1 1 1 1 1 1 1 1 1 1 1 1 1 1 1 1 1 1 1 1 1 1\n",
      " 1 1 1 1 1 1 1 1 1 1 1 1 1 1 1 1 1 1 1 2 2 2 2 2 2 2 2 2 2 2 2 2 2 2 2 2 2\n",
      " 2 2 2 2 2 2 2 2 2 2 2 2 2 2 2 2 2 2 2 2 2 2 2 2 2 2 2 2 2 2]\n"
     ]
    }
   ],
   "source": [
    "import numpy as np\n",
    "import pandas as pd\n",
    "\n",
    "from sklearn import datasets\n",
    "\n",
    "wine = datasets.load_wine()\n",
    "print (\"Features: \", wine.feature_names)\n",
    "print (\"Labels: \", wine.target_names)\n",
    "\n",
    "X=pd.DataFrame(wine['data'])\n",
    "print(X.head())\n",
    "print(wine.data.shape)\n",
    "y=print (wine.target)"
   ]
  },
  {
   "cell_type": "code",
   "execution_count": 25,
   "id": "de47f0bb",
   "metadata": {},
   "outputs": [
    {
     "name": "stdout",
     "output_type": "stream",
     "text": [
      "[0 0 1 2 0 1 0 0 1 0 2 2 2 2 0 1 1 0 0 1 2 1 0 2 0 0 1 2 0 1 2 1 1 0 1 1 0\n",
      " 2 2 0 2 1 0 0 0 2 2 0 1 1 2 0 0 2]\n"
     ]
    }
   ],
   "source": [
    "from sklearn.model_selection import train_test_split\n",
    "from sklearn.naive_bayes import CategoricalNB\n",
    "from sklearn.naive_bayes import GaussianNB\n",
    "\n",
    "X_train, X_test, y_train, y_test = train_test_split(wine.data, wine.target, test_size=0.30,random_state=109)\n",
    "\n",
    "gnb = GaussianNB()\n",
    "gnb.fit(X_train, y_train)\n",
    "y_pred = gnb.predict(X_test)\n",
    "print(y_pred)"
   ]
  },
  {
   "cell_type": "code",
   "execution_count": 26,
   "id": "e4ad2b3b",
   "metadata": {},
   "outputs": [
    {
     "name": "stdout",
     "output_type": "stream",
     "text": [
      "Accuracy: 0.9074074074074074\n"
     ]
    },
    {
     "data": {
      "text/plain": [
       "array([[20,  1,  0],\n",
       "       [ 2, 15,  2],\n",
       "       [ 0,  0, 14]], dtype=int64)"
      ]
     },
     "execution_count": 26,
     "metadata": {},
     "output_type": "execute_result"
    }
   ],
   "source": [
    "from sklearn import metrics\n",
    "print(\"Accuracy:\",metrics.accuracy_score(y_test, y_pred))\n",
    "\n",
    "\n",
    "from sklearn.metrics import  confusion_matrix\n",
    "\n",
    "cm=np.array(confusion_matrix(y_test,y_pred))\n",
    "cm"
   ]
  },
  {
   "cell_type": "code",
   "execution_count": null,
   "id": "b996fa94",
   "metadata": {},
   "outputs": [],
   "source": []
  }
 ],
 "metadata": {
  "kernelspec": {
   "display_name": "Python 3 (ipykernel)",
   "language": "python",
   "name": "python3"
  },
  "language_info": {
   "codemirror_mode": {
    "name": "ipython",
    "version": 3
   },
   "file_extension": ".py",
   "mimetype": "text/x-python",
   "name": "python",
   "nbconvert_exporter": "python",
   "pygments_lexer": "ipython3",
   "version": "3.9.12"
  }
 },
 "nbformat": 4,
 "nbformat_minor": 5
}
