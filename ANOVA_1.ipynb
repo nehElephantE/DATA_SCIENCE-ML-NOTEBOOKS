{
 "cells": [
  {
   "cell_type": "markdown",
   "id": "06d3b7e5",
   "metadata": {},
   "source": [
    "# NEHA RAGESH NAMBIAR\n",
    "20BRS1110"
   ]
  },
  {
   "cell_type": "code",
   "execution_count": 2,
   "id": "7c90735a",
   "metadata": {},
   "outputs": [],
   "source": [
    "# ONE_WAY ANNOVA\n",
    "\n",
    "import pandas as pd\n",
    "import statsmodels.api as sm\n",
    "from statsmodels.formula.api import ols"
   ]
  },
  {
   "cell_type": "markdown",
   "id": "17bc06fc",
   "metadata": {},
   "source": [
    "An oil company has introduced a new brand of gasoline in its outlets in 3 major metro cities. However, they are not sure how the new brand is selling at 3 places since there is a lot of difference in the driving habits of people in three metros. The company selected 10 outlets in each city and tabulated the data on an average daily sale at each of the selected outlets. In the given table items 1,2 and 3 in the table represent 3 metro cities Delhi, Mumbai and Kolkalta respectively"
   ]
  },
  {
   "cell_type": "markdown",
   "id": "1568a987",
   "metadata": {},
   "source": [
    "H01 : the average sale of the new brand of gasoline is same in all the metro cities \n",
    "\n",
    "Ha1: The average sale of the new brand of gasoline is not same in all the metro cities"
   ]
  },
  {
   "cell_type": "code",
   "execution_count": 3,
   "id": "5b768573",
   "metadata": {},
   "outputs": [
    {
     "data": {
      "text/html": [
       "<div>\n",
       "<style scoped>\n",
       "    .dataframe tbody tr th:only-of-type {\n",
       "        vertical-align: middle;\n",
       "    }\n",
       "\n",
       "    .dataframe tbody tr th {\n",
       "        vertical-align: top;\n",
       "    }\n",
       "\n",
       "    .dataframe thead th {\n",
       "        text-align: right;\n",
       "    }\n",
       "</style>\n",
       "<table border=\"1\" class=\"dataframe\">\n",
       "  <thead>\n",
       "    <tr style=\"text-align: right;\">\n",
       "      <th></th>\n",
       "      <th>outlet</th>\n",
       "      <th>metro</th>\n",
       "      <th>sale</th>\n",
       "    </tr>\n",
       "  </thead>\n",
       "  <tbody>\n",
       "    <tr>\n",
       "      <th>0</th>\n",
       "      <td>1</td>\n",
       "      <td>1</td>\n",
       "      <td>15.0</td>\n",
       "    </tr>\n",
       "    <tr>\n",
       "      <th>1</th>\n",
       "      <td>2</td>\n",
       "      <td>1</td>\n",
       "      <td>13.5</td>\n",
       "    </tr>\n",
       "    <tr>\n",
       "      <th>2</th>\n",
       "      <td>3</td>\n",
       "      <td>1</td>\n",
       "      <td>14.2</td>\n",
       "    </tr>\n",
       "    <tr>\n",
       "      <th>3</th>\n",
       "      <td>4</td>\n",
       "      <td>1</td>\n",
       "      <td>13.0</td>\n",
       "    </tr>\n",
       "    <tr>\n",
       "      <th>4</th>\n",
       "      <td>5</td>\n",
       "      <td>1</td>\n",
       "      <td>15.0</td>\n",
       "    </tr>\n",
       "  </tbody>\n",
       "</table>\n",
       "</div>"
      ],
      "text/plain": [
       "   outlet  metro  sale\n",
       "0       1      1  15.0\n",
       "1       2      1  13.5\n",
       "2       3      1  14.2\n",
       "3       4      1  13.0\n",
       "4       5      1  15.0"
      ]
     },
     "execution_count": 3,
     "metadata": {},
     "output_type": "execute_result"
    }
   ],
   "source": [
    "data = pd.read_csv(\"anova1.csv\")\n",
    "data.head()"
   ]
  },
  {
   "cell_type": "code",
   "execution_count": 5,
   "id": "4d1ec2a9",
   "metadata": {},
   "outputs": [
    {
     "data": {
      "text/plain": [
       "<AxesSubplot:title={'center':'sale'}, xlabel='metro'>"
      ]
     },
     "execution_count": 5,
     "metadata": {},
     "output_type": "execute_result"
    },
    {
     "data": {
      "image/png": "[encoded data removed]",
      "text/plain": [
       "<Figure size 432x288 with 1 Axes>"
      ]
     },
     "metadata": {
      "needs_background": "light"
     },
     "output_type": "display_data"
    }
   ],
   "source": [
    "data.boxplot('sale', by = 'metro')"
   ]
  },
  {
   "cell_type": "code",
   "execution_count": 6,
   "id": "a6af4ce1",
   "metadata": {},
   "outputs": [
    {
     "data": {
      "text/html": [
       "<div>\n",
       "<style scoped>\n",
       "    .dataframe tbody tr th:only-of-type {\n",
       "        vertical-align: middle;\n",
       "    }\n",
       "\n",
       "    .dataframe tbody tr th {\n",
       "        vertical-align: top;\n",
       "    }\n",
       "\n",
       "    .dataframe thead th {\n",
       "        text-align: right;\n",
       "    }\n",
       "</style>\n",
       "<table border=\"1\" class=\"dataframe\">\n",
       "  <thead>\n",
       "    <tr style=\"text-align: right;\">\n",
       "      <th></th>\n",
       "      <th>sum_sq</th>\n",
       "      <th>df</th>\n",
       "      <th>F</th>\n",
       "      <th>PR(&gt;F)</th>\n",
       "    </tr>\n",
       "  </thead>\n",
       "  <tbody>\n",
       "    <tr>\n",
       "      <th>metro</th>\n",
       "      <td>10.804500</td>\n",
       "      <td>1.0</td>\n",
       "      <td>0.703305</td>\n",
       "      <td>0.408778</td>\n",
       "    </tr>\n",
       "    <tr>\n",
       "      <th>Residual</th>\n",
       "      <td>430.148917</td>\n",
       "      <td>28.0</td>\n",
       "      <td>NaN</td>\n",
       "      <td>NaN</td>\n",
       "    </tr>\n",
       "  </tbody>\n",
       "</table>\n",
       "</div>"
      ],
      "text/plain": [
       "              sum_sq    df         F    PR(>F)\n",
       "metro      10.804500   1.0  0.703305  0.408778\n",
       "Residual  430.148917  28.0       NaN       NaN"
      ]
     },
     "execution_count": 6,
     "metadata": {},
     "output_type": "execute_result"
    }
   ],
   "source": [
    "new = ols('sale ~ metro', data = data).fit()\n",
    "an = sm.stats.anova_lm(new,typ = 2)\n",
    "an"
   ]
  },
  {
   "cell_type": "markdown",
   "id": "cb2e27b3",
   "metadata": {},
   "source": [
    "This proves that null hypothesis is accepted and alternate one is rejected"
   ]
  },
  {
   "cell_type": "markdown",
   "id": "4ca4a76a",
   "metadata": {},
   "source": [
    "![title](anova1.png)"
   ]
  }
 ],
 "metadata": {
  "kernelspec": {
   "display_name": "Python 3 (ipykernel)",
   "language": "python",
   "name": "python3"
  },
  "language_info": {
   "codemirror_mode": {
    "name": "ipython",
    "version": 3
   },
   "file_extension": ".py",
   "mimetype": "text/x-python",
   "name": "python",
   "nbconvert_exporter": "python",
   "pygments_lexer": "ipython3",
   "version": "3.9.12"
  }
 },
 "nbformat": 4,
 "nbformat_minor": 5
}
